{
 "cells": [
  {
   "cell_type": "code",
   "execution_count": 1,
   "metadata": {},
   "outputs": [
    {
     "name": "stderr",
     "output_type": "stream",
     "text": [
      "Using TensorFlow backend.\n"
     ]
    }
   ],
   "source": [
    "import cv2\n",
    "from keras.models import load_model\n",
    "\n",
    "def predict_class(image, class_0='dog', class_1='cat'):\n",
    "    \"\"\"\n",
    "    note : モデルをロードし、分類する関数\n",
    "    ---------------\n",
    "    \"\"\"\n",
    "    sample = load_img(image, target_size=(224,224))\n",
    "    sample_arr = img_to_array(sample)\n",
    "    sample_arr = np.expand_dims(sample_arr, axis=0)\n",
    "    sample_arr = sample_arr /255\n",
    "    model = load_model('wil_vs_cof.h5')\n",
    "    result = model.predict(sample_arr)\n",
    "    print('result prob', result)\n",
    "    if result < 0.5:\n",
    "        return class_0\n",
    "    else:\n",
    "        return class_1"
   ]
  },
  {
   "cell_type": "code",
   "execution_count": null,
   "metadata": {},
   "outputs": [],
   "source": [
    "# test \n",
    "test_image_path = 'test_image/'"
   ]
  },
  {
   "cell_type": "code",
   "execution_count": null,
   "metadata": {},
   "outputs": [],
   "source": [
    "from os import listdir\n",
    "from os.path import isfile, join\n",
    "import time\n",
    "\n",
    "\n",
    "def accuracy_check(test_image_path):\n",
    "    \"\"\"\n",
    "    note : test_imageディレクトリ内のテストデータで、モデルの精度判定する関数\n",
    "    ---------------\n",
    "    attribute\n",
    "    test_image_path : test_imageディレクトリのパス\n",
    "    \"\"\"\n",
    "    \n",
    "    # 時間計測（start）\n",
    "    start = time.time()\n",
    "    \n",
    "    # 画像ファイルの取り出し\n",
    "    test_images = [f for f in listdir(test_image_path) if isfile(join(test_image_path, f))]\n",
    "    test_images.remove('.DS_Store')\n",
    "\n",
    "    collect = 0\n",
    "    for test_image in test_images:\n",
    "        class_name = predict_class(test_image_path + test_image)\n",
    "        print('file name :', test_image, '/ class name :', class_name)\n",
    "        if test_image[0] == class_name[0]:\n",
    "            print('○')\n",
    "            collect += 1\n",
    "        else:\n",
    "            print('×')\n",
    "        print('--------------------------------------------------------------------------------------')\n",
    "\n",
    "\n",
    "    print('正解数は{sample}サンプル中{collect}で、testデータの正解率は{rate}です。'.format(sample=len(test_images),\n",
    "                                                                    collect=collect,\n",
    "                                                                    rate=collect/len(test_images)))\n",
    "    print('--------------------------------------------------------------------------------------')\n",
    "    \n",
    "    # 時間計測（end）\n",
    "    elapsed_time = time.time() - start\n",
    "    #print('合計秒数:：',elapsed_time)\n",
    "    print('画像ごとの処理時間(秒) :', str((elapsed_time)/len(test_images)) )\n",
    "    \n",
    "# どこまで実行しているか不明になるので...\n",
    "from datetime import datetime\n",
    "print('--------------------------------------------------------------------------------------')\n",
    "print('This code was runned on date / time below', datetime.now().strftime(\"%Y/%m/%d %H:%M:%S\"))"
   ]
  },
  {
   "cell_type": "code",
   "execution_count": null,
   "metadata": {},
   "outputs": [],
   "source": [
    "accuracy_check(test_image_path)"
   ]
  },
  {
   "cell_type": "code",
   "execution_count": 5,
   "metadata": {},
   "outputs": [
    {
     "ename": "SyntaxError",
     "evalue": "invalid token (<ipython-input-5-50fa57cf7519>, line 1)",
     "output_type": "error",
     "traceback": [
      "\u001b[0;36m  File \u001b[0;32m\"<ipython-input-5-50fa57cf7519>\"\u001b[0;36m, line \u001b[0;32m1\u001b[0m\n\u001b[0;31m    1_inma = ji\u001b[0m\n\u001b[0m     ^\u001b[0m\n\u001b[0;31mSyntaxError\u001b[0m\u001b[0;31m:\u001b[0m invalid token\n"
     ]
    }
   ],
   "source": [
    "1_inma = ji"
   ]
  },
  {
   "cell_type": "code",
   "execution_count": 7,
   "metadata": {},
   "outputs": [
    {
     "data": {
      "text/plain": [
       "[1, 2]"
      ]
     },
     "execution_count": 7,
     "metadata": {},
     "output_type": "execute_result"
    }
   ],
   "source": [
    "i = [1, 2, 3]\n",
    "i[:2]"
   ]
  },
  {
   "cell_type": "code",
   "execution_count": 11,
   "metadata": {},
   "outputs": [
    {
     "ename": "ValueError",
     "evalue": "cannot reshape array of size 4 into shape (1,1)",
     "output_type": "error",
     "traceback": [
      "\u001b[0;31m---------------------------------------------------------------------------\u001b[0m",
      "\u001b[0;31mValueError\u001b[0m                                Traceback (most recent call last)",
      "\u001b[0;32m<ipython-input-11-f6639b759a3b>\u001b[0m in \u001b[0;36m<module>\u001b[0;34m()\u001b[0m\n\u001b[1;32m      1\u001b[0m \u001b[0;32mimport\u001b[0m \u001b[0mnumpy\u001b[0m \u001b[0;32mas\u001b[0m \u001b[0mnp\u001b[0m\u001b[0;34m\u001b[0m\u001b[0;34m\u001b[0m\u001b[0m\n\u001b[1;32m      2\u001b[0m \u001b[0ma\u001b[0m \u001b[0;34m=\u001b[0m \u001b[0mnp\u001b[0m\u001b[0;34m.\u001b[0m\u001b[0marray\u001b[0m\u001b[0;34m(\u001b[0m\u001b[0;34m[\u001b[0m\u001b[0;34m[\u001b[0m\u001b[0;36m1\u001b[0m\u001b[0;34m,\u001b[0m\u001b[0;36m2\u001b[0m\u001b[0;34m]\u001b[0m\u001b[0;34m,\u001b[0m\u001b[0;34m[\u001b[0m\u001b[0;36m1\u001b[0m\u001b[0;34m,\u001b[0m\u001b[0;36m2\u001b[0m\u001b[0;34m]\u001b[0m\u001b[0;34m]\u001b[0m\u001b[0;34m)\u001b[0m\u001b[0;34m\u001b[0m\u001b[0;34m\u001b[0m\u001b[0m\n\u001b[0;32m----> 3\u001b[0;31m \u001b[0ma\u001b[0m\u001b[0;34m.\u001b[0m\u001b[0mreshape\u001b[0m\u001b[0;34m(\u001b[0m\u001b[0;36m1\u001b[0m\u001b[0;34m,\u001b[0m\u001b[0;36m1\u001b[0m\u001b[0;34m)\u001b[0m\u001b[0;34m\u001b[0m\u001b[0;34m\u001b[0m\u001b[0m\n\u001b[0m",
      "\u001b[0;31mValueError\u001b[0m: cannot reshape array of size 4 into shape (1,1)"
     ]
    }
   ],
   "source": [
    "import numpy as np\n",
    "a = np.array([[1,2],[1,2]])\n",
    "a.reshape(1,1)"
   ]
  },
  {
   "cell_type": "code",
   "execution_count": null,
   "metadata": {},
   "outputs": [],
   "source": []
  }
 ],
 "metadata": {
  "kernelspec": {
   "display_name": "Python 3",
   "language": "python",
   "name": "python3"
  },
  "language_info": {
   "codemirror_mode": {
    "name": "ipython",
    "version": 3
   },
   "file_extension": ".py",
   "mimetype": "text/x-python",
   "name": "python",
   "nbconvert_exporter": "python",
   "pygments_lexer": "ipython3",
   "version": "3.6.8"
  }
 },
 "nbformat": 4,
 "nbformat_minor": 2
}
