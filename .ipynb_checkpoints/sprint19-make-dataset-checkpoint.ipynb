{
 "cells": [
  {
   "cell_type": "markdown",
   "metadata": {},
   "source": [
    "# __Data Augmentation__\n",
    "- Dog & Cat"
   ]
  },
  {
   "cell_type": "code",
   "execution_count": 56,
   "metadata": {},
   "outputs": [],
   "source": [
    "from os import listdir\n",
    "from os.path import isfile, join"
   ]
  },
  {
   "cell_type": "code",
   "execution_count": 77,
   "metadata": {},
   "outputs": [
    {
     "name": "stdout",
     "output_type": "stream",
     "text": [
      "497images loaded\n"
     ]
    }
   ],
   "source": [
    "my_path = 'catsvsdogs/images/'\n",
    "files_name = [f for f in listdir(my_path) if isfile(join(my_path, f))]\n",
    "files_name.remove('.DS_Store')\n",
    "print(str(len(files_name)) + 'images loaded')\n",
    "\n",
    "for i, file in enumerate(files_name):\n",
    "    pass "
   ]
  },
  {
   "cell_type": "code",
   "execution_count": 75,
   "metadata": {},
   "outputs": [],
   "source": [
    "from keras.preprocession.image import ImageDataGenerator, img_to_array, load_img\n",
    "\n",
    "datagen = ImageDataGenerator(rotation_range=40,\n",
    "                             width_shift_range=0.2,\n",
    "                             height_shift_range=0.2,\n",
    "                             shear_range=0.2,\n",
    "                             zoom_range=0.2,\n",
    "                             horizontal_flip=True,\n",
    "                             fill_mode='nearest'\n",
    ")\n",
    "\n",
    "\n",
    "for i, file in enumerate(files_name):\n",
    "    img = load_img(my_path + file)\n",
    "    x = img_to_array(img)\n",
    "    x = x.reshape((1,) + x.shape)\n",
    "    \n",
    "    if file[0] == 'c':\n",
    "        i = 0\n",
    "        for batch in datagen.flow(x, save_to_dir=\"catsvsdogs/images/\", save_prefix=\"cat\", save_format=\"jpg\"):\n",
    "            i += 1\n",
    "            if i > 3:\n",
    "                break\n",
    "    else:\n",
    "        i = 0\n",
    "        for batch in datagen.flow(x, save_to_dir=\"catsvsdogs/images/\", save_prefix=\"dog\", save_format=\"jpg\"):\n",
    "            i += 1\n",
    "            if i > 3:\n",
    "                break"
   ]
  },
  {
   "cell_type": "markdown",
   "metadata": {},
   "source": [
    "#### __前処理__\n",
    "- ラベルデータの保存\n",
    "- resize\n",
    "- test_data, val_dataへの分割\n",
    "- Dog - 1, Cat - 0\n",
    "- ディレクトリの作成\n",
    "    - catsvsdogs / images / train / dogs\n",
    "    - catsvsdogs / images / train / cats\n",
    "    - catsvsdogs / images / val / dogs\n",
    "    - catsvsdogs / images / val / cats"
   ]
  },
  {
   "cell_type": "markdown",
   "metadata": {},
   "source": [
    "#### __保存用ディレクトリの作成__"
   ]
  },
  {
   "cell_type": "code",
   "execution_count": 78,
   "metadata": {},
   "outputs": [],
   "source": [
    "import cv2\n",
    "import numpy as np\n",
    "import sys\n",
    "import os\n",
    "import shutil\n",
    "\n",
    "dog_count = 0\n",
    "cat_count = 0\n",
    "training_size = 200\n",
    "test_size = 40\n",
    "training_images = []\n",
    "training_labels = []\n",
    "test_images = []\n",
    "test_labels = []\n",
    "size = 150\n",
    "dog_dir_train = 'catsvsdogs/train/dogs/'\n",
    "cat_dir_train = 'catsvsdogs/train/cats/'\n",
    "dog_dir_val = 'catsvsdogs/test/dogs/'\n",
    "cat_dir_val = 'catsvsdogs/test/cats/'\n",
    "\n",
    "# train_date, val_data保管用ディレクトリの作成\n",
    "def make_dir(directory):\n",
    "    if os.path.exists(directory):\n",
    "        shutil.rmtree(directory)\n",
    "    os.makedirs(directory)\n",
    "    \n",
    "make_dir(dog_dir_train)\n",
    "make_dir(cat_dir_train)\n",
    "make_dir(dog_dir_val)\n",
    "make_dir(cat_dir_val)"
   ]
  },
  {
   "cell_type": "markdown",
   "metadata": {},
   "source": [
    "#### __データのふるい分け、分割__"
   ]
  },
  {
   "cell_type": "code",
   "execution_count": 79,
   "metadata": {},
   "outputs": [],
   "source": [
    "for i, file in enumerate(files_name):\n",
    "    \n",
    "    if files_name[i][0] == 'd':\n",
    "        dog_count += 1\n",
    "        image = cv2.imread(my_path + file)\n",
    "        image = cv2.resize(image, (size, size), interpolation = cv2.INTER_AREA)\n",
    "        if dog_count <= training_size:\n",
    "            training_images.append(image)\n",
    "            training_labels.append(1)\n",
    "            cv2.imwrite(dog_dir_train + \"dog\" + str(dog_count) + '.jpg', image)\n",
    "        if dog_count > training_size and dog_count <= training_size + test_size:\n",
    "            test_images.append(image)\n",
    "            test_labels.append(1)\n",
    "            cv2.imwrite(dog_dir_val + \"dog\" + str(dog_count-10) + '.jpg', image)\n",
    "            \n",
    "    if files_name[i][0] == 'c':\n",
    "        cat_count += 1\n",
    "        image = cv2.imread(my_path + file)\n",
    "        image = cv2.resize(image, (size, size), interpolation = cv2.INTER_AREA)\n",
    "        if cat_count <= training_size:\n",
    "            training_images.append(image)\n",
    "            training_labels.append(0)\n",
    "            cv2.imwrite(cat_dir_train + \"cat\" + str(cat_count) + '.jpg', image)\n",
    "        if cat_count > training_size and cat_count <= training_size + test_size:\n",
    "            test_images.append(image)\n",
    "            test_labels.append(0)\n",
    "            cv2.imwrite(cat_dir_val + \"cat\" + str(cat_count-10) + '.jpg', image)"
   ]
  },
  {
   "cell_type": "markdown",
   "metadata": {},
   "source": [
    "#### __Kerasが対応するファイル型に変換__"
   ]
  },
  {
   "cell_type": "code",
   "execution_count": 80,
   "metadata": {},
   "outputs": [],
   "source": [
    "np.savez('cats_vs_dogs_training_data.npz', np.array(training_images))\n",
    "np.savez('cats_vs_dogs_training_labels.npz', np.array(training_labels))\n",
    "np.savez('cats_vs_dogs_test_data.npz', np.array(test_images))\n",
    "np.savez('cats_vs_dogs_test_labels.npz', np.array(test_labels))"
   ]
  },
  {
   "cell_type": "code",
   "execution_count": 81,
   "metadata": {},
   "outputs": [],
   "source": [
    "import numpy as np\n",
    "\n",
    "def load_data_training_and_test(datasetname):\n",
    "    npzfile = np.load(datasetname + \"_training_data.npz\")\n",
    "    train = npzfile[\"arr_0\"]\n",
    "    \n",
    "    npzfile = np.load(datasetname + \"_training_labels.npz\")\n",
    "    train_labels = npzfile[\"arr_0\"]\n",
    "    \n",
    "    npzfile = np.load(datasetname + \"_test_data.npz\")\n",
    "    test = npzfile[\"arr_0\"]\n",
    "    \n",
    "    npzfile = np.load(datasetname + \"_test_labels.npz\")\n",
    "    test_labels = npzfile[\"arr_0\"]\n",
    "    \n",
    "    return (train, train_labels), (test, test_labels)"
   ]
  },
  {
   "cell_type": "markdown",
   "metadata": {},
   "source": [
    "for i in range(1, 11):\n",
    "    random = np.random.randint(0, len(training_images))\n",
    "    cv2.imshow(\"image_\" + str(i), training_images[random])\n",
    "    if training_labels[random] == 0:\n",
    "        print(str(i) + \"- Cat\")\n",
    "    else:\n",
    "        print(str(i) + \"- Dog\")\n",
    "        \n",
    "cv2.destroyAllWindows()"
   ]
  },
  {
   "cell_type": "markdown",
   "metadata": {},
   "source": [
    "#### __データの前処理__"
   ]
  },
  {
   "cell_type": "code",
   "execution_count": 82,
   "metadata": {},
   "outputs": [],
   "source": [
    "(X_train, y_train), (X_test, y_test) = load_data_training_and_test(\"cats_vs_dogs\")\n",
    "\n",
    "y_train = y_train.reshape(y_train.shape[0], 1)\n",
    "y_test = y_test.reshape(y_test.shape[0], 1)\n",
    "\n",
    "X_train = X_train.astype(\"float32\")\n",
    "X_test = X_test.astype(\"float32\")\n",
    "\n",
    "X_train /= 255\n",
    "X_test /= 255"
   ]
  },
  {
   "cell_type": "markdown",
   "metadata": {},
   "source": [
    "#### __学習__"
   ]
  },
  {
   "cell_type": "code",
   "execution_count": 93,
   "metadata": {},
   "outputs": [
    {
     "name": "stdout",
     "output_type": "stream",
     "text": [
      "_________________________________________________________________\n",
      "Layer (type)                 Output Shape              Param #   \n",
      "=================================================================\n",
      "conv2d_25 (Conv2D)           (None, 148, 148, 32)      896       \n",
      "_________________________________________________________________\n",
      "activation_37 (Activation)   (None, 148, 148, 32)      0         \n",
      "_________________________________________________________________\n",
      "max_pooling2d_23 (MaxPooling (None, 74, 74, 32)        0         \n",
      "_________________________________________________________________\n",
      "conv2d_26 (Conv2D)           (None, 72, 72, 32)        9248      \n",
      "_________________________________________________________________\n",
      "activation_38 (Activation)   (None, 72, 72, 32)        0         \n",
      "_________________________________________________________________\n",
      "max_pooling2d_24 (MaxPooling (None, 36, 36, 32)        0         \n",
      "_________________________________________________________________\n",
      "conv2d_27 (Conv2D)           (None, 34, 34, 64)        18496     \n",
      "_________________________________________________________________\n",
      "activation_39 (Activation)   (None, 34, 34, 64)        0         \n",
      "_________________________________________________________________\n",
      "max_pooling2d_25 (MaxPooling (None, 17, 17, 64)        0         \n",
      "_________________________________________________________________\n",
      "flatten_8 (Flatten)          (None, 18496)             0         \n",
      "_________________________________________________________________\n",
      "dense_15 (Dense)             (None, 64)                1183808   \n",
      "_________________________________________________________________\n",
      "activation_40 (Activation)   (None, 64)                0         \n",
      "_________________________________________________________________\n",
      "dropout_8 (Dropout)          (None, 64)                0         \n",
      "_________________________________________________________________\n",
      "dense_16 (Dense)             (None, 1)                 65        \n",
      "_________________________________________________________________\n",
      "activation_41 (Activation)   (None, 1)                 0         \n",
      "=================================================================\n",
      "Total params: 1,212,513\n",
      "Trainable params: 1,212,513\n",
      "Non-trainable params: 0\n",
      "_________________________________________________________________\n",
      "None\n"
     ]
    }
   ],
   "source": [
    "from keras.preprocessing.image import ImageDataGenerator\n",
    "from keras.models import Sequential\n",
    "from keras.layers import Dense, Dropout, Activation, Flatten\n",
    "from keras.layers import Conv2D, MaxPooling2D\n",
    "import os\n",
    "\n",
    "batch_size = 16\n",
    "epochs = 40\n",
    "\n",
    "img_rows = X_train[0].shape[0]\n",
    "img_cols = X_train[1].shape[0]\n",
    "input_size = (img_rows, img_cols, 3)\n",
    "\n",
    "model = Sequential()\n",
    "model.add(Conv2D(32, (3, 3), input_shape = input_size), kernel_initializer=)\n",
    "model.add(Activation('relu'))\n",
    "model.add(MaxPooling2D(pool_size=(2,2)))\n",
    "\n",
    "model.add(Conv2D(32, (3, 3)))\n",
    "model.add(Activation('relu'))\n",
    "model.add(MaxPooling2D(pool_size=(2,2)))\n",
    "\n",
    "model.add(Conv2D(64, (3, 3)))\n",
    "model.add(Activation('relu'))\n",
    "model.add(MaxPooling2D(pool_size=(2,2)))\n",
    "\n",
    "model.add(Flatten())\n",
    "model.add(Dense(64))\n",
    "model.add(Activation('relu'))\n",
    "model.add(Dropout(0.5))\n",
    "model.add(Dense(1))\n",
    "model.add(Activation('sigmoid'))\n",
    "\n",
    "model.compile(loss = 'binary_crossentropy',\n",
    "             optimizer = 'rmsprop',\n",
    "             metrics = ['accuracy'])\n",
    "\n",
    "print(model.summary())"
   ]
  },
  {
   "cell_type": "code",
   "execution_count": 94,
   "metadata": {},
   "outputs": [
    {
     "name": "stdout",
     "output_type": "stream",
     "text": [
      "Train on 400 samples, validate on 80 samples\n",
      "Epoch 1/40\n",
      "400/400 [==============================] - 9s 23ms/step - loss: 0.7108 - acc: 0.5075 - val_loss: 0.6734 - val_acc: 0.6875\n",
      "Epoch 2/40\n",
      "400/400 [==============================] - 8s 20ms/step - loss: 0.6486 - acc: 0.6200 - val_loss: 0.6269 - val_acc: 0.6750\n",
      "Epoch 3/40\n",
      "400/400 [==============================] - 8s 20ms/step - loss: 0.5643 - acc: 0.7225 - val_loss: 0.5938 - val_acc: 0.6500\n",
      "Epoch 4/40\n",
      "400/400 [==============================] - 8s 20ms/step - loss: 0.5704 - acc: 0.7425 - val_loss: 0.5348 - val_acc: 0.7625\n",
      "Epoch 5/40\n",
      "400/400 [==============================] - 8s 20ms/step - loss: 0.4480 - acc: 0.7950 - val_loss: 0.5282 - val_acc: 0.7750\n",
      "Epoch 6/40\n",
      "400/400 [==============================] - 8s 20ms/step - loss: 0.4329 - acc: 0.8175 - val_loss: 0.4118 - val_acc: 0.8375\n",
      "Epoch 7/40\n",
      "400/400 [==============================] - 8s 20ms/step - loss: 0.5043 - acc: 0.8450 - val_loss: 0.3655 - val_acc: 0.9000\n",
      "Epoch 8/40\n",
      "400/400 [==============================] - 8s 20ms/step - loss: 0.2422 - acc: 0.9225 - val_loss: 0.3797 - val_acc: 0.8500\n",
      "Epoch 9/40\n",
      "400/400 [==============================] - 8s 20ms/step - loss: 0.3103 - acc: 0.8625 - val_loss: 0.3554 - val_acc: 0.8750\n",
      "Epoch 10/40\n",
      "400/400 [==============================] - 8s 20ms/step - loss: 0.2377 - acc: 0.9050 - val_loss: 0.3767 - val_acc: 0.8750\n",
      "Epoch 11/40\n",
      "400/400 [==============================] - 8s 20ms/step - loss: 0.2486 - acc: 0.9100 - val_loss: 0.4078 - val_acc: 0.8750\n",
      "Epoch 12/40\n",
      "400/400 [==============================] - 8s 20ms/step - loss: 0.1269 - acc: 0.9525 - val_loss: 0.4379 - val_acc: 0.8750\n",
      "Epoch 13/40\n",
      "400/400 [==============================] - 8s 21ms/step - loss: 0.1586 - acc: 0.9525 - val_loss: 0.3875 - val_acc: 0.8750\n",
      "Epoch 14/40\n",
      "400/400 [==============================] - 8s 21ms/step - loss: 0.1042 - acc: 0.9650 - val_loss: 0.4851 - val_acc: 0.8625\n",
      "Epoch 15/40\n",
      "400/400 [==============================] - 8s 20ms/step - loss: 0.1095 - acc: 0.9525 - val_loss: 0.7696 - val_acc: 0.7250\n",
      "Epoch 16/40\n",
      "400/400 [==============================] - 8s 20ms/step - loss: 0.1251 - acc: 0.9500 - val_loss: 0.4322 - val_acc: 0.8750\n",
      "Epoch 17/40\n",
      "400/400 [==============================] - 8s 20ms/step - loss: 0.1105 - acc: 0.9675 - val_loss: 0.4388 - val_acc: 0.8250\n",
      "Epoch 18/40\n",
      "400/400 [==============================] - 8s 20ms/step - loss: 0.0573 - acc: 0.9800 - val_loss: 1.3089 - val_acc: 0.7875\n",
      "Epoch 19/40\n",
      "400/400 [==============================] - 8s 20ms/step - loss: 0.1812 - acc: 0.9700 - val_loss: 0.5011 - val_acc: 0.8750\n",
      "Epoch 20/40\n",
      "400/400 [==============================] - 8s 20ms/step - loss: 0.0265 - acc: 0.9925 - val_loss: 0.6770 - val_acc: 0.8625\n",
      "Epoch 21/40\n",
      "400/400 [==============================] - 8s 20ms/step - loss: 0.0908 - acc: 0.9625 - val_loss: 0.8572 - val_acc: 0.8750\n",
      "Epoch 22/40\n",
      "400/400 [==============================] - 8s 20ms/step - loss: 0.0208 - acc: 0.9950 - val_loss: 0.7572 - val_acc: 0.8375\n",
      "Epoch 23/40\n",
      "400/400 [==============================] - 8s 21ms/step - loss: 0.2231 - acc: 0.9550 - val_loss: 0.7312 - val_acc: 0.8375\n",
      "Epoch 24/40\n",
      "400/400 [==============================] - 8s 20ms/step - loss: 0.0399 - acc: 0.9775 - val_loss: 0.6417 - val_acc: 0.8375\n",
      "Epoch 25/40\n",
      "400/400 [==============================] - 8s 20ms/step - loss: 0.0204 - acc: 0.9950 - val_loss: 0.5704 - val_acc: 0.8625\n",
      "Epoch 26/40\n",
      "400/400 [==============================] - 8s 20ms/step - loss: 0.0502 - acc: 0.9825 - val_loss: 0.5638 - val_acc: 0.9000\n",
      "Epoch 27/40\n",
      "400/400 [==============================] - 8s 20ms/step - loss: 0.0698 - acc: 0.9775 - val_loss: 0.7509 - val_acc: 0.8625\n",
      "Epoch 28/40\n",
      "400/400 [==============================] - 8s 21ms/step - loss: 0.0068 - acc: 1.0000 - val_loss: 0.7781 - val_acc: 0.8750\n",
      "Epoch 29/40\n",
      "400/400 [==============================] - 9s 22ms/step - loss: 0.0138 - acc: 0.9950 - val_loss: 0.7061 - val_acc: 0.9125\n",
      "Epoch 30/40\n",
      "400/400 [==============================] - 9s 22ms/step - loss: 0.0925 - acc: 0.9725 - val_loss: 0.8191 - val_acc: 0.8625\n",
      "Epoch 31/40\n",
      "400/400 [==============================] - 8s 21ms/step - loss: 0.0072 - acc: 0.9975 - val_loss: 0.8575 - val_acc: 0.8750\n",
      "Epoch 32/40\n",
      "400/400 [==============================] - 8s 20ms/step - loss: 0.0011 - acc: 1.0000 - val_loss: 0.8912 - val_acc: 0.8625\n",
      "Epoch 33/40\n",
      "400/400 [==============================] - 8s 20ms/step - loss: 0.2032 - acc: 0.9675 - val_loss: 0.7535 - val_acc: 0.8500\n",
      "Epoch 34/40\n",
      "400/400 [==============================] - 8s 20ms/step - loss: 0.0056 - acc: 1.0000 - val_loss: 0.7408 - val_acc: 0.8500\n",
      "Epoch 35/40\n",
      "400/400 [==============================] - 8s 19ms/step - loss: 0.0010 - acc: 1.0000 - val_loss: 0.9313 - val_acc: 0.8500\n",
      "Epoch 36/40\n",
      "400/400 [==============================] - 8s 20ms/step - loss: 0.0726 - acc: 0.9900 - val_loss: 0.9341 - val_acc: 0.8375\n",
      "Epoch 37/40\n",
      "400/400 [==============================] - 8s 20ms/step - loss: 0.0011 - acc: 1.0000 - val_loss: 1.0223 - val_acc: 0.8500\n",
      "Epoch 38/40\n",
      "400/400 [==============================] - 8s 20ms/step - loss: 0.1139 - acc: 0.9750 - val_loss: 0.8940 - val_acc: 0.8875\n",
      "Epoch 39/40\n",
      "400/400 [==============================] - 8s 20ms/step - loss: 0.1198 - acc: 0.9800 - val_loss: 1.4646 - val_acc: 0.8125\n",
      "Epoch 40/40\n",
      "400/400 [==============================] - 8s 20ms/step - loss: 0.0547 - acc: 0.9875 - val_loss: 1.0077 - val_acc: 0.8375\n",
      "80/80 [==============================] - 0s 6ms/step\n",
      "Test loss 1.007746171951294 Test accuracy 0.8375\n"
     ]
    }
   ],
   "source": [
    "history = model.fit(X_train, y_train,\n",
    "                   batch_size = batch_size,\n",
    "                   epochs = epochs,\n",
    "                   validation_data = (X_test, y_test),\n",
    "                   shuffle = True)\n",
    "\n",
    "model.save(\"cats_vs_dogs.h5\")\n",
    "\n",
    "scores = model.evaluate(X_test, y_test, verbose=1)\n",
    "print('Test loss', scores[0], 'Test accuracy', scores[1])"
   ]
  },
  {
   "cell_type": "markdown",
   "metadata": {},
   "source": [
    "#### __Augmentation なし__\n",
    "\n",
    "Train on 10 samples, validate on 10 samples\n",
    "Epoch 1/25\n",
    "10/10 [==============================] - 0s 30ms/step - loss: 1.8070e-05 - acc: 1.0000 - val_loss: 3.0441 - val_acc: 0.6000\n",
    "Epoch 2/25\n",
    "10/10 [==============================] - 0s 26ms/step - loss: 2.1992e-06 - acc: 1.0000 - val_loss: 3.0435 - val_acc: 0.6000\n",
    "Epoch 3/25\n",
    "10/10 [==============================] - 0s 25ms/step - loss: 1.4173e-04 - acc: 1.0000 - val_loss: 3.0218 - val_acc: 0.7000\n",
    "Epoch 4/25\n",
    "10/10 [==============================] - 0s 26ms/step - loss: 9.7983e-07 - acc: 1.0000 - val_loss: 3.0216 - val_acc: 0.7000\n",
    "Epoch 5/25\n",
    "10/10 [==============================] - 0s 26ms/step - loss: 2.4776e-06 - acc: 1.0000 - val_loss: 3.0214 - val_acc: 0.7000\n",
    "Epoch 6/25\n",
    "10/10 [==============================] - 0s 25ms/step - loss: 4.4536e-06 - acc: 1.0000 - val_loss: 3.0208 - val_acc: 0.7000\n",
    "Epoch 7/25\n",
    "10/10 [==============================] - 0s 26ms/step - loss: 5.0711e-06 - acc: 1.0000 - val_loss: 3.0207 - val_acc: 0.7000\n",
    "Epoch 8/25\n",
    "10/10 [==============================] - 0s 26ms/step - loss: 4.0394e-06 - acc: 1.0000 - val_loss: 3.0207 - val_acc: 0.7000\n",
    "Epoch 9/25\n",
    "10/10 [==============================] - 0s 26ms/step - loss: 5.2048e-05 - acc: 1.0000 - val_loss: 3.0292 - val_acc: 0.7000\n",
    "Epoch 10/25\n",
    "10/10 [==============================] - 0s 25ms/step - loss: 3.3786e-06 - acc: 1.0000 - val_loss: 3.0292 - val_acc: 0.7000\n",
    "Epoch 11/25\n",
    "10/10 [==============================] - 0s 25ms/step - loss: 1.9690e-06 - acc: 1.0000 - val_loss: 3.0294 - val_acc: 0.7000\n",
    "Epoch 12/25\n",
    "10/10 [==============================] - 0s 25ms/step - loss: 1.0861e-04 - acc: 1.0000 - val_loss: 3.1017 - val_acc: 0.6000\n",
    "Epoch 13/25\n",
    "10/10 [==============================] - 0s 27ms/step - loss: 5.6698e-06 - acc: 1.0000 - val_loss: 3.1057 - val_acc: 0.6000\n",
    "Epoch 14/25\n",
    "10/10 [==============================] - 0s 26ms/step - loss: 0.0213 - acc: 1.0000 - val_loss: 2.2884 - val_acc: 0.6000\n",
    "Epoch 15/25\n",
    "10/10 [==============================] - 0s 25ms/step - loss: 0.0016 - acc: 1.0000 - val_loss: 2.7232 - val_acc: 0.5000\n",
    "Epoch 16/25\n",
    "10/10 [==============================] - 0s 25ms/step - loss: 0.0067 - acc: 1.0000 - val_loss: 2.9423 - val_acc: 0.6000\n",
    "Epoch 17/25\n",
    "10/10 [==============================] - 0s 26ms/step - loss: 4.8264e-04 - acc: 1.0000 - val_loss: 2.8328 - val_acc: 0.6000\n",
    "Epoch 18/25\n",
    "10/10 [==============================] - 0s 25ms/step - loss: 2.9219e-05 - acc: 1.0000 - val_loss: 2.8082 - val_acc: 0.6000\n",
    "Epoch 19/25\n",
    "10/10 [==============================] - 0s 25ms/step - loss: 5.6744e-04 - acc: 1.0000 - val_loss: 2.5338 - val_acc: 0.7000\n",
    "Epoch 20/25\n",
    "10/10 [==============================] - 0s 24ms/step - loss: 1.3732e-05 - acc: 1.0000 - val_loss: 2.5418 - val_acc: 0.7000\n",
    "Epoch 21/25\n",
    "10/10 [==============================] - 0s 24ms/step - loss: 1.1395e-04 - acc: 1.0000 - val_loss: 2.6436 - val_acc: 0.7000\n",
    "Epoch 22/25\n",
    "10/10 [==============================] - 0s 25ms/step - loss: 6.0817e-05 - acc: 1.0000 - val_loss: 2.7054 - val_acc: 0.7000\n",
    "Epoch 23/25\n",
    "10/10 [==============================] - 0s 24ms/step - loss: 0.0070 - acc: 1.0000 - val_loss: 3.6960 - val_acc: 0.6000\n",
    "Epoch 24/25\n",
    "10/10 [==============================] - 0s 23ms/step - loss: 0.0010 - acc: 1.0000 - val_loss: 4.0447 - val_acc: 0.6000\n",
    "Epoch 25/25\n",
    "10/10 [==============================] - 0s 24ms/step - loss: 1.5118e-04 - acc: 1.0000 - val_loss: 4.0725 - val_acc: 0.6000\n",
    "10/10 [==============================] - 0s 5ms/step\n",
    "Test loss 4.072466850280762 Test accuracy 0.6000000238418579"
   ]
  },
  {
   "cell_type": "markdown",
   "metadata": {},
   "source": [
    "#### __Augmentation 4 * 4__\n",
    "\n",
    "Train on 400 samples, validate on 80 samples\n",
    "Epoch 1/25\n",
    "400/400 [==============================] - 9s 21ms/step - loss: 0.7688 - acc: 0.4825 - val_loss: 0.6883 - val_acc: 0.5000\n",
    "Epoch 2/25\n",
    "400/400 [==============================] - 8s 20ms/step - loss: 0.7008 - acc: 0.5950 - val_loss: 0.6643 - val_acc: 0.6125\n",
    "Epoch 3/25\n",
    "400/400 [==============================] - 8s 19ms/step - loss: 0.6364 - acc: 0.6500 - val_loss: 0.5930 - val_acc: 0.7375\n",
    "Epoch 4/25\n",
    "400/400 [==============================] - 8s 19ms/step - loss: 0.6539 - acc: 0.6875 - val_loss: 0.6051 - val_acc: 0.7375\n",
    "Epoch 5/25\n",
    "400/400 [==============================] - 8s 19ms/step - loss: 0.5354 - acc: 0.7600 - val_loss: 0.5143 - val_acc: 0.7875\n",
    "Epoch 6/25\n",
    "400/400 [==============================] - 8s 20ms/step - loss: 0.5291 - acc: 0.7625 - val_loss: 0.5527 - val_acc: 0.6250\n",
    "Epoch 7/25\n",
    "400/400 [==============================] - 8s 20ms/step - loss: 0.4127 - acc: 0.8275 - val_loss: 0.3708 - val_acc: 0.8375\n",
    "Epoch 8/25\n",
    "400/400 [==============================] - 8s 19ms/step - loss: 0.3846 - acc: 0.8400 - val_loss: 0.4236 - val_acc: 0.8250\n",
    "Epoch 9/25\n",
    "400/400 [==============================] - 8s 19ms/step - loss: 0.3645 - acc: 0.8625 - val_loss: 0.3718 - val_acc: 0.8375\n",
    "Epoch 10/25\n",
    "400/400 [==============================] - 8s 19ms/step - loss: 0.2291 - acc: 0.9150 - val_loss: 0.3645 - val_acc: 0.8500\n",
    "Epoch 11/25\n",
    "400/400 [==============================] - 8s 19ms/step - loss: 0.2896 - acc: 0.8850 - val_loss: 0.3536 - val_acc: 0.8500\n",
    "Epoch 12/25\n",
    "400/400 [==============================] - 8s 20ms/step - loss: 0.2940 - acc: 0.8800 - val_loss: 0.3106 - val_acc: 0.8875\n",
    "Epoch 13/25\n",
    "400/400 [==============================] - 8s 20ms/step - loss: 0.1852 - acc: 0.9325 - val_loss: 0.3798 - val_acc: 0.8625\n",
    "Epoch 14/25\n",
    "400/400 [==============================] - 8s 20ms/step - loss: 0.1617 - acc: 0.9425 - val_loss: 0.4412 - val_acc: 0.8500\n",
    "Epoch 15/25\n",
    "400/400 [==============================] - 8s 19ms/step - loss: 0.1717 - acc: 0.9375 - val_loss: 0.3906 - val_acc: 0.8625\n",
    "Epoch 16/25\n",
    "400/400 [==============================] - 8s 20ms/step - loss: 0.1362 - acc: 0.9500 - val_loss: 0.3388 - val_acc: 0.9000\n",
    "Epoch 17/25\n",
    "400/400 [==============================] - 8s 20ms/step - loss: 0.0957 - acc: 0.9625 - val_loss: 0.3369 - val_acc: 0.8750\n",
    "Epoch 18/25\n",
    "400/400 [==============================] - 8s 20ms/step - loss: 0.1039 - acc: 0.9575 - val_loss: 0.6380 - val_acc: 0.8750\n",
    "Epoch 19/25\n",
    "400/400 [==============================] - 8s 20ms/step - loss: 0.1599 - acc: 0.9500 - val_loss: 1.1282 - val_acc: 0.8000\n",
    "Epoch 20/25\n",
    "400/400 [==============================] - 8s 20ms/step - loss: 0.0578 - acc: 0.9800 - val_loss: 0.5977 - val_acc: 0.8750\n",
    "Epoch 21/25\n",
    "400/400 [==============================] - 8s 19ms/step - loss: 0.1028 - acc: 0.9625 - val_loss: 0.5286 - val_acc: 0.8875\n",
    "Epoch 22/25\n",
    "400/400 [==============================] - 8s 19ms/step - loss: 0.0438 - acc: 0.9825 - val_loss: 0.8115 - val_acc: 0.8625\n",
    "Epoch 23/25\n",
    "400/400 [==============================] - 8s 20ms/step - loss: 0.0887 - acc: 0.9775 - val_loss: 0.6342 - val_acc: 0.8875\n",
    "Epoch 24/25\n",
    "400/400 [==============================] - 8s 19ms/step - loss: 0.0491 - acc: 0.9850 - val_loss: 0.5752 - val_acc: 0.8625\n",
    "Epoch 25/25\n",
    "400/400 [==============================] - 8s 19ms/step - loss: 0.1410 - acc: 0.9600 - val_loss: 0.6641 - val_acc: 0.8875\n",
    "80/80 [==============================] - 1s 7ms/step\n",
    "Test loss 0.6640982627868652 Test accuracy 0.8875"
   ]
  },
  {
   "cell_type": "code",
   "execution_count": 95,
   "metadata": {},
   "outputs": [
    {
     "data": {
      "text/plain": [
       "Text(0.5,1,'val_loss')"
      ]
     },
     "execution_count": 95,
     "metadata": {},
     "output_type": "execute_result"
    },
    {
     "data": {
      "image/png": "[encoded data removed]",
      "text/plain": [
       "<Figure size 432x288 with 1 Axes>"
      ]
     },
     "metadata": {
      "needs_background": "light"
     },
     "output_type": "display_data"
    }
   ],
   "source": [
    "import matplotlib.pyplot as plt\n",
    "% matplotlib inline\n",
    "plt.plot(history.history['val_loss'])\n",
    "plt.title('val_loss')"
   ]
  },
  {
   "cell_type": "code",
   "execution_count": 96,
   "metadata": {},
   "outputs": [
    {
     "data": {
      "text/plain": [
       "Text(0.5,1,'val_acc')"
      ]
     },
     "execution_count": 96,
     "metadata": {},
     "output_type": "execute_result"
    },
    {
     "data": {
      "image/png": "[encoded data removed]",
      "text/plain": [
       "<Figure size 432x288 with 1 Axes>"
      ]
     },
     "metadata": {
      "needs_background": "light"
     },
     "output_type": "display_data"
    }
   ],
   "source": [
    "plt.plot(history.history['val_acc'])\n",
    "plt.title('val_acc')"
   ]
  },
  {
   "cell_type": "markdown",
   "metadata": {},
   "source": [
    "#### __誤差と精度が上がり続ける__\n",
    "- 汎化誤差\n",
    "    - 学習時に使用しなかったデータに対する予測値と正解の差\n",
    "- クラス不均衡\n",
    "    - ではない\n",
    "- 正則化\n",
    "    - dropout\n",
    "    - 参考になりそう\n",
    "        - https://stackoverflow.com/questions/40910857/how-to-interpret-increase-in-both-loss-and-accuracy\n",
    "        - https://kharshit.github.io/blog/2018/12/07/loss-vs-accuracy"
   ]
  },
  {
   "cell_type": "markdown",
   "metadata": {},
   "source": [
    "- データオーグメンテーション\n",
    "    - lossを発生させて、勾配を発生させている?\n",
    "    - "
   ]
  }
 ],
 "metadata": {
  "kernelspec": {
   "display_name": "Python 3",
   "language": "python",
   "name": "python3"
  },
  "language_info": {
   "codemirror_mode": {
    "name": "ipython",
    "version": 3
   },
   "file_extension": ".py",
   "mimetype": "text/x-python",
   "name": "python",
   "nbconvert_exporter": "python",
   "pygments_lexer": "ipython3",
   "version": "3.6.8"
  }
 },
 "nbformat": 4,
 "nbformat_minor": 2
}
