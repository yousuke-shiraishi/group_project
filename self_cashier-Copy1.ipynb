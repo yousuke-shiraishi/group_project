{
 "cells": [
  {
   "cell_type": "markdown",
   "metadata": {},
   "source": [
    "# __セルフレジ__"
   ]
  },
  {
   "cell_type": "markdown",
   "metadata": {},
   "source": [
    "#### __試行__\n",
    "- __2019/07/07の現状__\n",
    "    - Predict速度の向上が必要\n",
    "        - Mobilenetの1層目から学習\n",
    "            - →　Predictが相当遅くなる\n",
    "        - Dense層1層のみを加え、学習する\n",
    "            - →　Predictの速度が向上し,5/6の正解\n",
    "        - Dense層を二層加え、Mobilenetの最後の層のみ学習\n",
    "            - →　14, 15, 16層以降のみ学習させたが、実のデータでの検証失敗\n",
    "            - → Mobile net層を一切学習せず、自作の層を三層追加したものの検証失敗\n",
    "        - Mobilenetの途中層から学習をしてみる\n",
    "            - 10層目からの学習 : ダメ\n",
    "            - 7 :　ダメ\n",
    "        - MobileNetは学習せず、Dense層のみ学習\n",
    "            - 128, 64, 32, 16, 8, 1, 全てDropout0.2\n",
    "                - だめ\n",
    "            "
   ]
  },
  {
   "cell_type": "markdown",
   "metadata": {},
   "source": [
    "#### __試行__\n",
    "- 2019/07/08現状\n",
    "    - mobile[16~] + 8 + 1\n",
    "        - 0.81\n",
    "    - mobile[15~] + 8 + 1\n",
    "        - 0.72\n",
    "    - mobile[14~] + 8 + 1\n",
    "        - 0.8823529411764706\n",
    "    - mobile[14~] + 8 + 8 + 1\n",
    "        - 0.8823529411764706\n",
    "    - mobile[14~] + 16 + 8 + 1\n",
    "        - 0.8823529411764706\n",
    "    - mobile[13~] + 8 + 1\n",
    "        - 0.7058823529411765\n",
    "     "
   ]
  },
  {
   "cell_type": "markdown",
   "metadata": {},
   "source": [
    "#### __試行__\n",
    "- 2019/07/09の現状\n",
    "    - acqueri\n",
    "    - soda\n",
    "    - cc_lemon\n",
    "    - fanta"
   ]
  },
  {
   "cell_type": "code",
   "execution_count": 1,
   "metadata": {},
   "outputs": [],
   "source": [
    "my_path = 'image_folder/images/'"
   ]
  },
  {
   "cell_type": "code",
   "execution_count": 2,
   "metadata": {},
   "outputs": [
    {
     "name": "stderr",
     "output_type": "stream",
     "text": [
      "Using TensorFlow backend.\n"
     ]
    }
   ],
   "source": [
    "from os import listdir\n",
    "from os.path import isfile, join\n",
    "from keras.preprocessing.image import ImageDataGenerator, img_to_array, load_img\n",
    "from tqdm import tqdm\n",
    "\n",
    "\n",
    "def augmentation(dir_path, initial_letter_of_file='w', augment_num=0):\n",
    "    \n",
    "    \n",
    "    \"\"\"\n",
    "    note : 指定ディレクトリ内の,指定頭文字で始まるファイルを指定枚数オーグメントする\n",
    "    ----------\n",
    "    dir_path : フォルダパス\n",
    "    initial_letter : augmentしたいファイル名の頭文字\n",
    "    aument_num : augmentしたい枚数\n",
    "    ----------\n",
    "    \"\"\"\n",
    "    \n",
    "    \n",
    "    files_name = [f for f in listdir(my_path) if isfile(join(my_path, f))]\n",
    "    files_name.remove('.DS_Store')\n",
    "    \n",
    "    \n",
    "    datagen = ImageDataGenerator(rotation_range=40,\n",
    "                             width_shift_range=0.2,\n",
    "                             #height_shift_range=0.2,\n",
    "                             shear_range=0.2,\n",
    "                             zoom_range=0.2,\n",
    "                             horizontal_flip=True,\n",
    "                             fill_mode='nearest'\n",
    "    )\n",
    "    \n",
    "    \n",
    "    for i, file in tqdm(enumerate(files_name)):\n",
    "        img = load_img(dir_path + file)\n",
    "        x = img_to_array(img)\n",
    "        x = x.reshape((1,) + x.shape) \n",
    "\n",
    "        if file[0] == initial_letter_of_file:\n",
    "            i = 0\n",
    "            for batch in datagen.flow(x, save_to_dir=dir_path, save_prefix=initial_letter_of_file, save_format=\"jpg\"):\n",
    "                i += 1\n",
    "                if i > augment_num:\n",
    "                    break\n",
    "\n",
    "        else:\n",
    "            pass"
   ]
  },
  {
   "cell_type": "markdown",
   "metadata": {},
   "source": [
    "augmentation(my_path, 'c')\n",
    "augmentation(my_path, 'f')\n",
    "augmentation(my_path, 'l')\n",
    "augmentation(my_path, 'n')\n",
    "augmentation(my_path, 's')"
   ]
  },
  {
   "cell_type": "markdown",
   "metadata": {},
   "source": [
    "#### __正規分布のノイズを入れる__"
   ]
  },
  {
   "cell_type": "code",
   "execution_count": 3,
   "metadata": {},
   "outputs": [],
   "source": [
    "from numpy.random import *\n",
    "from keras.preprocessing.image import load_img, img_to_array, array_to_img\n",
    "import cv2\n",
    "\n",
    "import datetime\n",
    "\n",
    "\n",
    "def add_noise(my_path='image_folder/images/', iter_num=1):\n",
    "    \n",
    "    size = 224\n",
    "\n",
    "    files_name = [f for f in listdir(my_path) if isfile(join(my_path, f))]\n",
    "    files_name.remove('.DS_Store')\n",
    "\n",
    "    for _ in range(iter_num):\n",
    "        for file in files_name:\n",
    "            image = cv2.imread(my_path + file)\n",
    "            image = cv2.resize(image, (size, size), interpolation = cv2.INTER_AREA)\n",
    "            image = image + rand(image.shape[1], image.shape[2])/10\n",
    "            #x = x.reshape((1,) + x.shape)\n",
    "            cv2.imwrite(my_path + file[0:6] + str(datetime.datetime.now().time())[-4:] +'.jpg', image)"
   ]
  },
  {
   "cell_type": "code",
   "execution_count": 4,
   "metadata": {},
   "outputs": [],
   "source": [
    "add_noise()"
   ]
  },
  {
   "cell_type": "code",
   "execution_count": 5,
   "metadata": {},
   "outputs": [],
   "source": [
    "files_name = [f for f in listdir(my_path) if isfile(join(my_path, f))]\n",
    "files_name.remove('.DS_Store')"
   ]
  },
  {
   "cell_type": "markdown",
   "metadata": {},
   "source": [
    "#### __前処理__\n",
    "- ラベルデータの保存\n",
    "- resize\n",
    "- test_data, val_dataへの分割\n",
    "- Dog - 1, Cat - 0\n",
    "- ディレクトリの作成\n",
    "    - catsvsdogs / images / train / dogs\n",
    "    - catsvsdogs / images / train / cats\n",
    "    - catsvsdogs / images / val / dogs\n",
    "    - catsvsdogs / images / val / cats"
   ]
  },
  {
   "cell_type": "markdown",
   "metadata": {},
   "source": [
    "#### __保存用ディレクトリの作成__"
   ]
  },
  {
   "cell_type": "code",
   "execution_count": 6,
   "metadata": {},
   "outputs": [],
   "source": [
    "import os\n",
    "import shutil\n",
    "\n",
    "class0_dir_train = 'image_folder/train/class0/'\n",
    "class0_dir_val = 'image_folder/test/class0/'\n",
    "\n",
    "class1_dir_train = 'image_folder/train/class1/'\n",
    "class1_dir_val = 'image_folder/test/class1/'\n",
    "\n",
    "class2_dir_train = 'image_folder/train/class2/'\n",
    "class2_dir_val = 'image_folder/test/class2/'\n",
    "\n",
    "class3_dir_train = 'image_folder/train/class3/'\n",
    "class3_dir_val = 'image_folder/test/class3/'\n",
    "\n",
    "class4_dir_train = 'image_folder/train/class4/'\n",
    "class4_dir_val = 'image_folder/test/class4/'\n",
    "\n",
    "def make_dir(directory):\n",
    "    if os.path.exists(directory):\n",
    "        shutil.rmtree(directory)\n",
    "    os.makedirs(directory)\n",
    "    \n",
    "make_dir(class0_dir_train)\n",
    "make_dir(class0_dir_val)\n",
    "\n",
    "make_dir(class1_dir_train)\n",
    "make_dir(class1_dir_val)\n",
    "\n",
    "make_dir(class2_dir_train)\n",
    "make_dir(class2_dir_val)\n",
    "\n",
    "make_dir(class3_dir_train)\n",
    "make_dir(class3_dir_val)\n",
    "\n",
    "make_dir(class4_dir_train)\n",
    "make_dir(class4_dir_val)"
   ]
  },
  {
   "cell_type": "markdown",
   "metadata": {},
   "source": [
    "#### __データのふるい分け、分割__"
   ]
  },
  {
   "cell_type": "code",
   "execution_count": 7,
   "metadata": {},
   "outputs": [],
   "source": [
    "import cv2\n",
    "import numpy as np\n",
    "import sys\n",
    "import shutil\n",
    "from tqdm import tqdm\n",
    "\n",
    "\n",
    "def train_test_split(files_name, class_0='c', class_1='f', class_2='l', class_3='n', class_4='s' ,train_size=0.8):\n",
    "    \n",
    "    \"\"\"\n",
    "    note : 画像フォルダから、指定クラスを、指定割合でtrain_sprit\n",
    "    ----------\n",
    "    class_0 : クラス名（今回はwilkinson）\n",
    "    class_1 : クラス名（今回はcoffee）\n",
    "    train_size : 分割したい割合\n",
    "    ----------\n",
    "    \"\"\"\n",
    "    \n",
    "    class_0_count = 0\n",
    "    class_1_count = 0\n",
    "    class_2_count = 0\n",
    "    class_3_count = 0\n",
    "    class_4_count = 0\n",
    "    \n",
    "    each_class_size = len(files_name) // 5\n",
    "    \n",
    "    train_size = each_class_size * train_size\n",
    "    test_size = each_class_size - train_size\n",
    "    \n",
    "    training_images = []\n",
    "    training_labels = []\n",
    "    test_images = []\n",
    "    test_labels = []\n",
    "    training_file_name = []\n",
    "    test_file_name = []\n",
    "    \n",
    "    size=224\n",
    "    \n",
    "    for i, file in tqdm(enumerate(files_name)):\n",
    "        \n",
    "        if files_name[i][0] == class_0:\n",
    "            class_0_count += 1\n",
    "            image = cv2.imread(my_path + file)\n",
    "            image = cv2.resize(image, (size, size), interpolation = cv2.INTER_AREA)\n",
    "            if class_0_count <= train_size:\n",
    "                training_images.append(image)\n",
    "                training_labels.append(0)\n",
    "                training_file_name.append(file)\n",
    "                cv2.imwrite(class0_dir_train + class_0 + str(class_0_count) + '.jpg', image)\n",
    "            if class_0_count > train_size and class_0_count <= train_size + test_size:\n",
    "                test_images.append(image)\n",
    "                test_labels.append(0)\n",
    "                test_file_name.append(file)\n",
    "                cv2.imwrite(class0_dir_val + class_0 + str(class_0_count) + '_' + '.jpg', image)\n",
    "\n",
    "                \n",
    "        if files_name[i][0] == class_1:\n",
    "            class_1_count += 1\n",
    "            image = cv2.imread(my_path + file)\n",
    "            image = cv2.resize(image, (size, size), interpolation = cv2.INTER_AREA)\n",
    "            if class_1_count <= train_size:\n",
    "                training_images.append(image)\n",
    "                training_labels.append(1)\n",
    "                training_file_name.append(file)\n",
    "                cv2.imwrite(class1_dir_train + class_1 + str(class_1_count) + '.jpg', image)\n",
    "            if class_1_count > train_size and class_1_count <= train_size + test_size:\n",
    "                test_images.append(image)\n",
    "                test_labels.append(1)\n",
    "                test_file_name.append(file)\n",
    "                cv2.imwrite(class1_dir_val + class_1 + str(class_1_count) + '_' + '.jpg', image)\n",
    "                \n",
    "                \n",
    "        if files_name[i][0] == class_2:\n",
    "            class_2_count += 1\n",
    "            image = cv2.imread(my_path + file)\n",
    "            image = cv2.resize(image, (size, size), interpolation = cv2.INTER_AREA)\n",
    "            if class_2_count <= train_size:\n",
    "                training_images.append(image)\n",
    "                training_labels.append(2)\n",
    "                training_file_name.append(file)\n",
    "                cv2.imwrite(class2_dir_train + class_2 + str(class_2_count) + '.jpg', image)\n",
    "            if class_2_count > train_size and class_2_count <= train_size + test_size:\n",
    "                test_images.append(image)\n",
    "                test_labels.append(2)\n",
    "                test_file_name.append(file)\n",
    "                cv2.imwrite(class2_dir_val + class_2 + str(class_2_count) + '_' + '.jpg', image)\n",
    "                \n",
    "                \n",
    "        if files_name[i][0] == class_3:\n",
    "            class_3_count += 1\n",
    "            image = cv2.imread(my_path + file)\n",
    "            image = cv2.resize(image, (size, size), interpolation = cv2.INTER_AREA)\n",
    "            if class_3_count <= train_size:\n",
    "                training_images.append(image)\n",
    "                training_labels.append(3)\n",
    "                training_file_name.append(file)\n",
    "                cv2.imwrite(class3_dir_train + class_3 + str(class_3_count) + '.jpg', image)\n",
    "            if class_3_count > train_size and class_3_count <= train_size + test_size:\n",
    "                test_images.append(image)\n",
    "                test_labels.append(3)\n",
    "                test_file_name.append(file)\n",
    "                cv2.imwrite(class3_dir_val + class_3 + str(class_3_count) + '_' + '.jpg', image)\n",
    "                \n",
    "                \n",
    "        if files_name[i][0] == class_4:\n",
    "            class_4_count += 1\n",
    "            image = cv2.imread(my_path + file)\n",
    "            image = cv2.resize(image, (size, size), interpolation = cv2.INTER_AREA)\n",
    "            if class_4_count <= train_size:\n",
    "                training_images.append(image)\n",
    "                training_labels.append(4)\n",
    "                training_file_name.append(file)\n",
    "                cv2.imwrite(class4_dir_train + class_4 + str(class_4_count) + '.jpg', image)\n",
    "            if class_4_count > train_size and class_4_count <= train_size + test_size:\n",
    "                test_images.append(image)\n",
    "                test_labels.append(4)\n",
    "                test_file_name.append(file)\n",
    "                cv2.imwrite(class4_dir_val + class_4 + str(class_4_count) + '_' + '.jpg', image)\n",
    "                \n",
    "    return training_images, training_labels, test_images, test_labels, training_file_name, test_file_name"
   ]
  },
  {
   "cell_type": "code",
   "execution_count": 8,
   "metadata": {},
   "outputs": [
    {
     "name": "stderr",
     "output_type": "stream",
     "text": [
      "954it [00:01, 534.54it/s]\n"
     ]
    }
   ],
   "source": [
    "training_images, training_labels, test_images, test_labels, training_file_name, test_file_name = train_test_split(files_name)"
   ]
  },
  {
   "cell_type": "code",
   "execution_count": 9,
   "metadata": {},
   "outputs": [
    {
     "data": {
      "text/plain": [
       "['soda_f1595.jpg',\n",
       " 'cocaco1034.jpg',\n",
       " 'fanta_1059.jpg',\n",
       " 'cocaco6773.jpg',\n",
       " 'fanta_9834.jpg',\n",
       " 'lemon_2196.jpg',\n",
       " 'cocaco9859.jpg',\n",
       " 'fanta_1529.jpg',\n",
       " 'fanta_0145.jpg',\n",
       " 'fanta_9161.jpg',\n",
       " 'cocaco9130.jpg',\n",
       " 'cocaco4401.jpg',\n",
       " 'soda_f2512.jpg',\n",
       " 'namach9470.jpg',\n",
       " 'lemon_7004.jpg']"
      ]
     },
     "execution_count": 9,
     "metadata": {},
     "output_type": "execute_result"
    }
   ],
   "source": [
    "training_file_name[20:35]"
   ]
  },
  {
   "cell_type": "code",
   "execution_count": 10,
   "metadata": {},
   "outputs": [
    {
     "data": {
      "text/plain": [
       "[4, 0, 1, 0, 1, 2, 0, 1, 1, 1, 0, 0, 4, 3, 2]"
      ]
     },
     "execution_count": 10,
     "metadata": {},
     "output_type": "execute_result"
    }
   ],
   "source": [
    "training_labels[20:35]"
   ]
  },
  {
   "cell_type": "code",
   "execution_count": 11,
   "metadata": {},
   "outputs": [],
   "source": [
    "class_num = 4\n",
    "columns = class_num + 1"
   ]
  },
  {
   "cell_type": "markdown",
   "metadata": {},
   "source": [
    "#### __Kerasが対応するファイル型に変換__"
   ]
  },
  {
   "cell_type": "code",
   "execution_count": 12,
   "metadata": {},
   "outputs": [],
   "source": [
    "np.savez('multi_classifier_training_data.npz', np.array(training_images))\n",
    "np.savez('multi_classifier_training_labels.npz', np.identity(columns)[training_labels])\n",
    "np.savez('multi_classifier_test_data.npz', np.array(test_images))\n",
    "np.savez('multi_classifier_test_labels.npz', np.identity(columns)[test_labels])"
   ]
  },
  {
   "cell_type": "code",
   "execution_count": 13,
   "metadata": {},
   "outputs": [],
   "source": [
    "import numpy as np\n",
    "\n",
    "def load_data_training_and_test(datasetname):\n",
    "    npzfile = np.load(datasetname + \"_training_data.npz\")\n",
    "    train = npzfile[\"arr_0\"]\n",
    "    \n",
    "    npzfile = np.load(datasetname + \"_training_labels.npz\")\n",
    "    train_labels = npzfile[\"arr_0\"]\n",
    "    \n",
    "    npzfile = np.load(datasetname + \"_test_data.npz\")\n",
    "    test = npzfile[\"arr_0\"]\n",
    "    \n",
    "    npzfile = np.load(datasetname + \"_test_labels.npz\")\n",
    "    test_labels = npzfile[\"arr_0\"]\n",
    "    \n",
    "    return (train, train_labels), (test, test_labels)"
   ]
  },
  {
   "cell_type": "markdown",
   "metadata": {},
   "source": [
    "for i in range(1, 11):\n",
    "    random = np.random.randint(0, len(training_images))\n",
    "    cv2.imshow(\"image_\" + str(i), training_images[random])\n",
    "    if training_labels[random] == 0:\n",
    "        print(str(i) + \"- Cat\")\n",
    "    else:\n",
    "        print(str(i) + \"- Dog\")\n",
    "        \n",
    "cv2.destroyAllWindows()"
   ]
  },
  {
   "cell_type": "markdown",
   "metadata": {},
   "source": [
    "#### __データの前処理__"
   ]
  },
  {
   "cell_type": "code",
   "execution_count": 14,
   "metadata": {},
   "outputs": [],
   "source": [
    "(X_train, y_train), (X_test, y_test) = load_data_training_and_test(\"multi_classifier\")\n",
    "\n",
    "y_train = y_train.reshape(y_train.shape[0], columns)\n",
    "y_test = y_test.reshape(y_test.shape[0], columns)\n",
    "\n",
    "X_train = X_train.astype(\"float32\")\n",
    "X_test = X_test.astype(\"float32\")\n",
    "\n",
    "X_train /= 255\n",
    "X_test /= 255"
   ]
  },
  {
   "cell_type": "code",
   "execution_count": 15,
   "metadata": {},
   "outputs": [
    {
     "data": {
      "text/plain": [
       "188"
      ]
     },
     "execution_count": 15,
     "metadata": {},
     "output_type": "execute_result"
    }
   ],
   "source": [
    "len(y_test)"
   ]
  },
  {
   "cell_type": "markdown",
   "metadata": {},
   "source": [
    "#### __学習__\n",
    "- 自作の層で学習を行なったが、精度が低い"
   ]
  },
  {
   "cell_type": "code",
   "execution_count": 16,
   "metadata": {},
   "outputs": [
    {
     "name": "stdout",
     "output_type": "stream",
     "text": [
      "--------------------------------------------------------------------------------------\n",
      "This code was runned on date / time below 2019/07/10 22:29:22\n"
     ]
    }
   ],
   "source": [
    "from keras.preprocessing.image import ImageDataGenerator\n",
    "from keras.models import Sequential\n",
    "from keras.layers import Dense, Dropout, Activation, Flatten\n",
    "from keras.layers import Conv2D, MaxPooling2D\n",
    "from keras.callbacks import EarlyStopping\n",
    "\n",
    "import os\n",
    "\n",
    "batch_size = 16\n",
    "epochs = 8\n",
    "\n",
    "img_rows = X_train[0].shape[0]\n",
    "img_cols = X_train[1].shape[0]\n",
    "input_size = (224, 224, 3)\n",
    "\n",
    "\"\"\"\n",
    "model = Sequential()\n",
    "model.add(Conv2D(32, 3, 3, border_mode='same', input_shape=input_size))\n",
    "model.add(Activation(\"relu\"))\n",
    "model.add(Conv2D(32, 3, 3))\n",
    "model.add(Activation(\"relu\"))\n",
    "model.add(MaxPooling2D(pool_size=(2, 2), border_mode=(\"same\")))\n",
    "model.add(Dropout(0.25))\n",
    "\n",
    "model.add(Flatten())\n",
    "\n",
    "model.add(Dense(200))\n",
    "model.add(Activation(\"relu\"))\n",
    "model.add(Dropout(0.2))\n",
    "\n",
    "model.add(Dense(200))\n",
    "model.add(Activation(\"relu\"))\n",
    "model.add(Dropout(0.2))\n",
    "\n",
    "model.add(Dense(3))\n",
    "model.add(Activation('sigmoid'))\n",
    "\n",
    "print('---------------------------')\n",
    "\n",
    "\"\"\"\"\"\"\n",
    "\n",
    "model = Sequential()\n",
    "\n",
    "model.add(Conv2D(32, (3, 3), input_shape = input_size))\n",
    "model.add(Activation('relu'))\n",
    "model.add(MaxPooling2D(pool_size=(2,2)))\n",
    "\n",
    "model.add(Conv2D(32, (3, 3)))\n",
    "model.add(Activation('relu'))\n",
    "model.add(MaxPooling2D(pool_size=(2,2)))\n",
    "\n",
    "model.add(Conv2D(32, (3, 3)))\n",
    "model.add(Activation('relu'))\n",
    "model.add(MaxPooling2D(pool_size=(2,2)))\n",
    "\n",
    "model.add(Conv2D(64, (3, 3)))\n",
    "model.add(Activation('relu'))\n",
    "model.add(MaxPooling2D(pool_size=(2,2)))\n",
    "\n",
    "model.add(Conv2D(64, (3, 3)))\n",
    "model.add(Activation('relu'))\n",
    "model.add(MaxPooling2D(pool_size=(2,2)))\n",
    "\n",
    "model.add(Flatten())\n",
    "\n",
    "model.add(Dense(32))\n",
    "model.add(Activation('relu'))\n",
    "model.add(Dropout(0.2))\n",
    "\n",
    "model.add(Dense(32))\n",
    "model.add(Activation('relu'))\n",
    "model.add(Dropout(0.2))\n",
    "\n",
    "model.add(Dense(32))\n",
    "model.add(Activation('relu'))\n",
    "model.add(Dropout(0.2))\n",
    "\n",
    "model.add(Dense(1))\n",
    "model.add(Activation('sigmoid'))\n",
    "\n",
    "\"\"\"\n",
    "\n",
    "\n",
    "from keras.applications.mobilenet_v2 import MobileNetV2\n",
    "\n",
    "conv_base = MobileNetV2(weights='imagenet', include_top=False, input_shape=input_size)\n",
    "\n",
    "model = Sequential()\n",
    "model.add(conv_base)\n",
    "\n",
    "\"\"\"\n",
    "model.add(Flatten())\n",
    "\n",
    "model.add(Dense(32))\n",
    "model.add(Activation('relu'))\n",
    "model.add(Dropout(0.2))\n",
    "\n",
    "\n",
    "model.add(Flatten())\n",
    "\n",
    "\n",
    "model.add(Dense(64))\n",
    "model.add(Activation('relu'))\n",
    "model.add(Dropout(0.2))\n",
    "\n",
    "model.add(Dense(32))\n",
    "model.add(Activation('relu'))\n",
    "model.add(Dropout(0.2))\n",
    "\n",
    "model.add(Dense(16))\n",
    "model.add(Activation('relu'))\n",
    "model.add(Dropout(0.2))\n",
    "\"\"\"\n",
    "\n",
    "model.add(Flatten())\n",
    "\n",
    "model.add(Dense(16))\n",
    "model.add(Activation('relu'))\n",
    "model.add(Dropout(0.2))\n",
    "\n",
    "model.add(Dense(8))\n",
    "model.add(Activation('relu'))\n",
    "model.add(Dropout(0.2))\n",
    "\n",
    "model.add(Dense(5))\n",
    "model.add(Activation('softmax'))\n",
    "\n",
    "\n",
    "set_trainable = False\n",
    "for layer in conv_base.layers:\n",
    "    if layer.name == 'block_16_expand':\n",
    "        # 一切の学習を行わない場合\n",
    "        set_trainable = False\n",
    "    if set_trainable:\n",
    "        layer.trainable = True\n",
    "    else:\n",
    "        layer.trainable = False\n",
    "\n",
    "    \n",
    "\"\"\"\n",
    "for layer in conv_base__.layers:\n",
    "    print(layer.name, ':', layer.trainable)\n",
    "\"\"\"\n",
    "\n",
    "model.compile(loss = 'categorical_crossentropy',\n",
    "             optimizer = 'adam',\n",
    "             metrics = ['accuracy'])\n",
    "\n",
    "\n",
    "# どこまで実行しているか不明になるので...\n",
    "from datetime import datetime\n",
    "print('--------------------------------------------------------------------------------------')\n",
    "print('This code was runned on date / time below', datetime.now().strftime(\"%Y/%m/%d %H:%M:%S\"))"
   ]
  },
  {
   "cell_type": "code",
   "execution_count": 17,
   "metadata": {},
   "outputs": [
    {
     "name": "stdout",
     "output_type": "stream",
     "text": [
      "input_1 : False\n",
      "Conv1_pad : False\n",
      "Conv1 : False\n",
      "bn_Conv1 : False\n",
      "Conv1_relu : False\n",
      "expanded_conv_depthwise : False\n",
      "expanded_conv_depthwise_BN : False\n",
      "expanded_conv_depthwise_relu : False\n",
      "expanded_conv_project : False\n",
      "expanded_conv_project_BN : False\n",
      "block_1_expand : False\n",
      "block_1_expand_BN : False\n",
      "block_1_expand_relu : False\n",
      "block_1_pad : False\n",
      "block_1_depthwise : False\n",
      "block_1_depthwise_BN : False\n",
      "block_1_depthwise_relu : False\n",
      "block_1_project : False\n",
      "block_1_project_BN : False\n",
      "block_2_expand : False\n",
      "block_2_expand_BN : False\n",
      "block_2_expand_relu : False\n",
      "block_2_depthwise : False\n",
      "block_2_depthwise_BN : False\n",
      "block_2_depthwise_relu : False\n",
      "block_2_project : False\n",
      "block_2_project_BN : False\n",
      "block_2_add : False\n",
      "block_3_expand : False\n",
      "block_3_expand_BN : False\n",
      "block_3_expand_relu : False\n",
      "block_3_pad : False\n",
      "block_3_depthwise : False\n",
      "block_3_depthwise_BN : False\n",
      "block_3_depthwise_relu : False\n",
      "block_3_project : False\n",
      "block_3_project_BN : False\n",
      "block_4_expand : False\n",
      "block_4_expand_BN : False\n",
      "block_4_expand_relu : False\n",
      "block_4_depthwise : False\n",
      "block_4_depthwise_BN : False\n",
      "block_4_depthwise_relu : False\n",
      "block_4_project : False\n",
      "block_4_project_BN : False\n",
      "block_4_add : False\n",
      "block_5_expand : False\n",
      "block_5_expand_BN : False\n",
      "block_5_expand_relu : False\n",
      "block_5_depthwise : False\n",
      "block_5_depthwise_BN : False\n",
      "block_5_depthwise_relu : False\n",
      "block_5_project : False\n",
      "block_5_project_BN : False\n",
      "block_5_add : False\n",
      "block_6_expand : False\n",
      "block_6_expand_BN : False\n",
      "block_6_expand_relu : False\n",
      "block_6_pad : False\n",
      "block_6_depthwise : False\n",
      "block_6_depthwise_BN : False\n",
      "block_6_depthwise_relu : False\n",
      "block_6_project : False\n",
      "block_6_project_BN : False\n",
      "block_7_expand : False\n",
      "block_7_expand_BN : False\n",
      "block_7_expand_relu : False\n",
      "block_7_depthwise : False\n",
      "block_7_depthwise_BN : False\n",
      "block_7_depthwise_relu : False\n",
      "block_7_project : False\n",
      "block_7_project_BN : False\n",
      "block_7_add : False\n",
      "block_8_expand : False\n",
      "block_8_expand_BN : False\n",
      "block_8_expand_relu : False\n",
      "block_8_depthwise : False\n",
      "block_8_depthwise_BN : False\n",
      "block_8_depthwise_relu : False\n",
      "block_8_project : False\n",
      "block_8_project_BN : False\n",
      "block_8_add : False\n",
      "block_9_expand : False\n",
      "block_9_expand_BN : False\n",
      "block_9_expand_relu : False\n",
      "block_9_depthwise : False\n",
      "block_9_depthwise_BN : False\n",
      "block_9_depthwise_relu : False\n",
      "block_9_project : False\n",
      "block_9_project_BN : False\n",
      "block_9_add : False\n",
      "block_10_expand : False\n",
      "block_10_expand_BN : False\n",
      "block_10_expand_relu : False\n",
      "block_10_depthwise : False\n",
      "block_10_depthwise_BN : False\n",
      "block_10_depthwise_relu : False\n",
      "block_10_project : False\n",
      "block_10_project_BN : False\n",
      "block_11_expand : False\n",
      "block_11_expand_BN : False\n",
      "block_11_expand_relu : False\n",
      "block_11_depthwise : False\n",
      "block_11_depthwise_BN : False\n",
      "block_11_depthwise_relu : False\n",
      "block_11_project : False\n",
      "block_11_project_BN : False\n",
      "block_11_add : False\n",
      "block_12_expand : False\n",
      "block_12_expand_BN : False\n",
      "block_12_expand_relu : False\n",
      "block_12_depthwise : False\n",
      "block_12_depthwise_BN : False\n",
      "block_12_depthwise_relu : False\n",
      "block_12_project : False\n",
      "block_12_project_BN : False\n",
      "block_12_add : False\n",
      "block_13_expand : False\n",
      "block_13_expand_BN : False\n",
      "block_13_expand_relu : False\n",
      "block_13_pad : False\n",
      "block_13_depthwise : False\n",
      "block_13_depthwise_BN : False\n",
      "block_13_depthwise_relu : False\n",
      "block_13_project : False\n",
      "block_13_project_BN : False\n",
      "block_14_expand : False\n",
      "block_14_expand_BN : False\n",
      "block_14_expand_relu : False\n",
      "block_14_depthwise : False\n",
      "block_14_depthwise_BN : False\n",
      "block_14_depthwise_relu : False\n",
      "block_14_project : False\n",
      "block_14_project_BN : False\n",
      "block_14_add : False\n",
      "block_15_expand : False\n",
      "block_15_expand_BN : False\n",
      "block_15_expand_relu : False\n",
      "block_15_depthwise : False\n",
      "block_15_depthwise_BN : False\n",
      "block_15_depthwise_relu : False\n",
      "block_15_project : False\n",
      "block_15_project_BN : False\n",
      "block_15_add : False\n",
      "block_16_expand : False\n",
      "block_16_expand_BN : False\n",
      "block_16_expand_relu : False\n",
      "block_16_depthwise : False\n",
      "block_16_depthwise_BN : False\n",
      "block_16_depthwise_relu : False\n",
      "block_16_project : False\n",
      "block_16_project_BN : False\n",
      "Conv_1 : False\n",
      "Conv_1_bn : False\n",
      "out_relu : False\n",
      "--------------------------------------------------------------------------------------\n",
      "This code was runned on date / time below 2019/07/10 22:29:22\n"
     ]
    }
   ],
   "source": [
    "for layer in conv_base.layers:\n",
    "    print(layer.name, ':', layer.trainable)\n",
    "    \n",
    "# どこまで実行しているか不明になるので...\n",
    "from datetime import datetime\n",
    "print('--------------------------------------------------------------------------------------')\n",
    "print('This code was runned on date / time below', datetime.now().strftime(\"%Y/%m/%d %H:%M:%S\"))"
   ]
  },
  {
   "cell_type": "code",
   "execution_count": 18,
   "metadata": {},
   "outputs": [
    {
     "name": "stdout",
     "output_type": "stream",
     "text": [
      "_________________________________________________________________\n",
      "Layer (type)                 Output Shape              Param #   \n",
      "=================================================================\n",
      "mobilenetv2_1.00_224 (Model) (None, 7, 7, 1280)        2257984   \n",
      "_________________________________________________________________\n",
      "flatten_1 (Flatten)          (None, 62720)             0         \n",
      "_________________________________________________________________\n",
      "dense_1 (Dense)              (None, 16)                1003536   \n",
      "_________________________________________________________________\n",
      "activation_1 (Activation)    (None, 16)                0         \n",
      "_________________________________________________________________\n",
      "dropout_1 (Dropout)          (None, 16)                0         \n",
      "_________________________________________________________________\n",
      "dense_2 (Dense)              (None, 8)                 136       \n",
      "_________________________________________________________________\n",
      "activation_2 (Activation)    (None, 8)                 0         \n",
      "_________________________________________________________________\n",
      "dropout_2 (Dropout)          (None, 8)                 0         \n",
      "_________________________________________________________________\n",
      "dense_3 (Dense)              (None, 5)                 45        \n",
      "_________________________________________________________________\n",
      "activation_3 (Activation)    (None, 5)                 0         \n",
      "=================================================================\n",
      "Total params: 3,261,701\n",
      "Trainable params: 1,003,717\n",
      "Non-trainable params: 2,257,984\n",
      "_________________________________________________________________\n",
      "--------------------------------------------------------------------------------------\n",
      "This code was runned on date / time below 2019/07/10 22:29:22\n"
     ]
    }
   ],
   "source": [
    "model.summary()\n",
    "\n",
    "# どこまで実行しているか不明になるので...\n",
    "from datetime import datetime\n",
    "print('--------------------------------------------------------------------------------------')\n",
    "print('This code was runned on date / time below', datetime.now().strftime(\"%Y/%m/%d %H:%M:%S\"))"
   ]
  },
  {
   "cell_type": "code",
   "execution_count": 19,
   "metadata": {},
   "outputs": [
    {
     "name": "stdout",
     "output_type": "stream",
     "text": [
      "Train on 760 samples, validate on 188 samples\n",
      "Epoch 1/10\n",
      "760/760 [==============================] - 42s 56ms/step - loss: 2.2298 - acc: 0.4053 - val_loss: 0.8545 - val_acc: 0.6543\n",
      "Epoch 2/10\n",
      "760/760 [==============================] - 37s 49ms/step - loss: 1.0047 - acc: 0.5276 - val_loss: 0.7609 - val_acc: 0.7500\n",
      "Epoch 3/10\n",
      "760/760 [==============================] - 37s 49ms/step - loss: 0.9454 - acc: 0.6513 - val_loss: 0.7218 - val_acc: 0.8085\n",
      "Epoch 4/10\n",
      "760/760 [==============================] - 37s 49ms/step - loss: 0.8843 - acc: 0.6816 - val_loss: 0.6754 - val_acc: 0.8085\n",
      "Epoch 5/10\n",
      "760/760 [==============================] - 37s 49ms/step - loss: 0.8948 - acc: 0.6592 - val_loss: 0.6452 - val_acc: 0.8085\n",
      "Epoch 6/10\n",
      "760/760 [==============================] - 37s 49ms/step - loss: 0.8138 - acc: 0.6803 - val_loss: 0.6040 - val_acc: 0.8085\n",
      "Epoch 7/10\n",
      "760/760 [==============================] - 38s 49ms/step - loss: 0.7764 - acc: 0.6908 - val_loss: 0.5777 - val_acc: 0.8085\n",
      "Epoch 8/10\n",
      "760/760 [==============================] - 37s 49ms/step - loss: 0.8347 - acc: 0.6697 - val_loss: 0.5692 - val_acc: 0.8085\n",
      "Epoch 9/10\n",
      "760/760 [==============================] - 39s 51ms/step - loss: 0.8137 - acc: 0.6605 - val_loss: 0.5518 - val_acc: 0.8085\n",
      "Epoch 10/10\n",
      "760/760 [==============================] - 39s 51ms/step - loss: 0.7790 - acc: 0.6632 - val_loss: 0.5373 - val_acc: 0.8085\n",
      "188/188 [==============================] - 9s 49ms/step\n",
      "Test loss 0.5373443872370618 Test accuracy 0.8085106408342402\n",
      "--------------------------------------------------------------------------------------\n",
      "This code was runned on date / time below 2019/07/10 22:35:55\n"
     ]
    }
   ],
   "source": [
    "history = model.fit(X_train, y_train,\n",
    "                   batch_size = batch_size,\n",
    "                   epochs = 10,\n",
    "                   validation_data = (X_test, y_test),\n",
    "                   shuffle = True)\n",
    "\n",
    "# 再構築可能なモデルの構造\n",
    "# モデルの重み\n",
    "# 学習時の設定 (loss，optimizer)\n",
    "# optimizerの状態．これにより，学習を終えた時点から正確に学習を再開できます\n",
    "\n",
    "model.save(\"multi_label.h5\")\n",
    "scores = model.evaluate(X_test, y_test, verbose=1)\n",
    "\n",
    "print('Test loss', scores[0], 'Test accuracy', scores[1])\n",
    "\n",
    "# どこまで実行しているか不明になるので...\n",
    "from datetime import datetime\n",
    "print('--------------------------------------------------------------------------------------')\n",
    "print('This code was runned on date / time below', datetime.now().strftime(\"%Y/%m/%d %H:%M:%S\"))"
   ]
  },
  {
   "cell_type": "markdown",
   "metadata": {},
   "source": [
    "#### __可視化__"
   ]
  },
  {
   "cell_type": "code",
   "execution_count": 20,
   "metadata": {},
   "outputs": [
    {
     "name": "stdout",
     "output_type": "stream",
     "text": [
      "--------------------------------------------------------------------------------------\n",
      "This code was runned on date / time below 2019/07/10 22:35:55\n"
     ]
    },
    {
     "data": {
      "image/png": "[encoded data removed]",
      "text/plain": [
       "<Figure size 432x288 with 1 Axes>"
      ]
     },
     "metadata": {
      "needs_background": "light"
     },
     "output_type": "display_data"
    }
   ],
   "source": [
    "import matplotlib.pyplot as plt\n",
    "% matplotlib inline\n",
    "plt.plot(history.history['val_loss'])\n",
    "plt.title('val_loss')\n",
    "\n",
    "# どこまで実行しているか不明になるので...\n",
    "from datetime import datetime\n",
    "print('--------------------------------------------------------------------------------------')\n",
    "print('This code was runned on date / time below', datetime.now().strftime(\"%Y/%m/%d %H:%M:%S\"))"
   ]
  },
  {
   "cell_type": "code",
   "execution_count": 21,
   "metadata": {},
   "outputs": [
    {
     "name": "stdout",
     "output_type": "stream",
     "text": [
      "--------------------------------------------------------------------------------------\n",
      "This code was runned on date / time below 2019/07/10 22:35:55\n"
     ]
    },
    {
     "data": {
      "image/png": "[encoded data removed]",
      "text/plain": [
       "<Figure size 432x288 with 1 Axes>"
      ]
     },
     "metadata": {
      "needs_background": "light"
     },
     "output_type": "display_data"
    }
   ],
   "source": [
    "plt.plot(history.history['val_acc'])\n",
    "plt.title('val_acc')\n",
    "\n",
    "# どこまで実行しているか不明になるので...\n",
    "from datetime import datetime\n",
    "print('--------------------------------------------------------------------------------------')\n",
    "print('This code was runned on date / time below', datetime.now().strftime(\"%Y/%m/%d %H:%M:%S\"))"
   ]
  },
  {
   "cell_type": "markdown",
   "metadata": {},
   "source": [
    "#### __学習済みモデルのpredict__"
   ]
  },
  {
   "cell_type": "code",
   "execution_count": 22,
   "metadata": {},
   "outputs": [
    {
     "name": "stdout",
     "output_type": "stream",
     "text": [
      "--------------------------------------------------------------------------------------\n",
      "result prob :  soda_float / image :  test_image/lemon__20190709193708.jpg\n",
      "file name : lemon__20190709193708.jpg / class name : soda_float\n",
      "×\n",
      "--------------------------------------------------------------------------------------\n",
      "result prob :  cocacola / image :  test_image/fanta_litchi__20190709194117.jpg\n",
      "file name : fanta_litchi__20190709194117.jpg / class name : cocacola\n",
      "×\n",
      "--------------------------------------------------------------------------------------\n",
      "result prob :  lemon / image :  test_image/lemon__20190709193656.jpg\n",
      "file name : lemon__20190709193656.jpg / class name : lemon\n",
      "○\n",
      "--------------------------------------------------------------------------------------\n",
      "result prob :  namacha / image :  test_image/namacha__20190709194420.jpg\n",
      "file name : namacha__20190709194420.jpg / class name : namacha\n",
      "○\n",
      "--------------------------------------------------------------------------------------\n",
      "result prob :  cocacola / image :  test_image/fanta_litchi__20190709194107.jpg\n",
      "file name : fanta_litchi__20190709194107.jpg / class name : cocacola\n",
      "×\n",
      "--------------------------------------------------------------------------------------\n",
      "result prob :  soda_float / image :  test_image/soda_float__20190709194702.jpg\n",
      "file name : soda_float__20190709194702.jpg / class name : soda_float\n",
      "○\n",
      "--------------------------------------------------------------------------------------\n",
      "result prob :  soda_float / image :  test_image/soda_float__20190709194655.jpg\n",
      "file name : soda_float__20190709194655.jpg / class name : soda_float\n",
      "○\n",
      "--------------------------------------------------------------------------------------\n",
      "result prob :  cocacola / image :  test_image/cocacola__20190709192937.jpg\n",
      "file name : cocacola__20190709192937.jpg / class name : cocacola\n",
      "○\n",
      "--------------------------------------------------------------------------------------\n",
      "result prob :  cocacola / image :  test_image/cocacola__20190709192925.jpg\n",
      "file name : cocacola__20190709192925.jpg / class name : cocacola\n",
      "○\n",
      "--------------------------------------------------------------------------------------\n",
      "result prob :  namacha / image :  test_image/namacha__20190709194403.jpg\n",
      "file name : namacha__20190709194403.jpg / class name : namacha\n",
      "○\n",
      "--------------------------------------------------------------------------------------\n",
      "正解数は10サンプル中7で、testデータの正解率は0.7です。\n",
      "--------------------------------------------------------------------------------------\n",
      "画像ごとの処理時間(秒) : 0.1762158155441284\n",
      "--------------------------------------------------------------------------------------\n",
      "This code was runned on date / time below 2019/07/10 22:36:14\n"
     ]
    }
   ],
   "source": [
    "import cv2\n",
    "from keras.models import load_model\n",
    "\n",
    "from os import listdir\n",
    "from os.path import isfile, join\n",
    "import time\n",
    "\n",
    "\n",
    "class predict_class:\n",
    "    \n",
    "    def __init__(self, model='multi_label.h5', test_image_path='test_image/'):\n",
    "        \"\"\"\n",
    "        attribute\n",
    "        ----------------\n",
    "        model : model(.h5)\n",
    "        test_image_path : テストファイルが入っているディレクトリ\n",
    "        \"\"\"\n",
    "        self.model = load_model(model)\n",
    "        self.test_image_path = test_image_path\n",
    "    \n",
    "    \n",
    "    \n",
    "    \n",
    "    def predict(self, image, class_0='cocacola', class_1='fanta_litchi', class_2='lemon', class_3='namacha', class_4='soda_float'):\n",
    "        \"\"\"\n",
    "        note : 与えられたimageのpathから、多値分類を行う関数\n",
    "        ----------------\n",
    "        attribute\n",
    "        image : image画像のパス\n",
    "        ----------------\n",
    "        \"\"\"\n",
    "        class_name = [class_0, class_1, class_2, class_3, class_4]\n",
    "        sample = load_img(image, target_size=(224,224))\n",
    "        sample_arr = img_to_array(sample)\n",
    "        sample_arr = np.expand_dims(sample_arr, axis=0)\n",
    "        sample_arr = sample_arr /255\n",
    "        result = self.model.predict(sample_arr)\n",
    "        print('result prob : ', class_name[np.argmax(result)], '/ image : ', image)\n",
    "        return class_name[np.argmax(result)]\n",
    "\n",
    "        \n",
    "    def accuracy_check(self):\n",
    "        \"\"\"\n",
    "        note : test_imageディレクトリ内の複数のテストデータで、モデルの精度判定する関数\n",
    "        ---------------\n",
    "        \"\"\"\n",
    "        print('--------------------------------------------------------------------------------------')\n",
    "        # 時間計測（start）\n",
    "        start = time.time()\n",
    "\n",
    "        # 画像ファイルの取り出し\n",
    "        test_images = [f for f in listdir(self.test_image_path) if isfile(join(self.test_image_path, f))]\n",
    "        test_images.remove('.DS_Store')\n",
    "\n",
    "        collect = 0\n",
    "        for test_image in test_images:\n",
    "            class_name = self.predict(self.test_image_path + test_image)\n",
    "            print('file name :', test_image, '/ class name :', class_name)\n",
    "            if test_image[0] == class_name[0]:\n",
    "                print('○')\n",
    "                collect += 1\n",
    "            else:\n",
    "                print('×')\n",
    "            print('--------------------------------------------------------------------------------------')\n",
    "\n",
    "\n",
    "        print('正解数は{sample}サンプル中{collect}で、testデータの正解率は{rate}です。'.format(sample=len(test_images),\n",
    "                                                                        collect=collect,\n",
    "                                                                        rate=collect/len(test_images)))\n",
    "        print('--------------------------------------------------------------------------------------')\n",
    "\n",
    "        # 時間計測（end）\n",
    "        elapsed_time = time.time() - start\n",
    "        #print('合計秒数:：',elapsed_time)\n",
    "        print('画像ごとの処理時間(秒) :', str((elapsed_time)/len(test_images)) )\n",
    "\n",
    "    \n",
    "    \n",
    "    \n",
    "if __name__ == '__main__':\n",
    "    # インスタンスの作成\n",
    "    predict = predict_class()\n",
    "    \n",
    "    # テストファイルのパスフォルダ名\n",
    "    test_image_path = 'test_image/'\n",
    "\n",
    "    #predict.predict(test_image_path + 'aquarius__20190709160943.jpg')\n",
    "    predict.accuracy_check()\n",
    "    \n",
    "    # どこまで実行しているか不明になるので...\n",
    "    from datetime import datetime\n",
    "    print('--------------------------------------------------------------------------------------')\n",
    "    print('This code was runned on date / time below', datetime.now().strftime(\"%Y/%m/%d %H:%M:%S\"))"
   ]
  },
  {
   "cell_type": "markdown",
   "metadata": {},
   "source": [
    "#### __中間層におけるロジットの出力__"
   ]
  },
  {
   "cell_type": "code",
   "execution_count": 23,
   "metadata": {},
   "outputs": [],
   "source": [
    "from os import listdir\n",
    "from os.path import isfile, join\n",
    "import time\n",
    "\n",
    "from keras.models import Model\n",
    "\n",
    "\n",
    "def output_logit(layer_name='dense_6', test_image_path='test_imageのコピー/'):\n",
    "    \"\"\"\n",
    "    note : 特定層においてロジットの出力をarrayにて出力する関数\n",
    "    ----------\n",
    "    attribute\n",
    "    layer_name : layer\n",
    "    test_image_path : test_image(predictする画像)が格納されているフォルダ\n",
    "    \"\"\"\n",
    "    # 画像ファイルの取り出し\n",
    "    test_images = [f for f in listdir(test_image_path) if isfile(join(test_image_path, f))]\n",
    "    test_images.remove('.DS_Store')\n",
    "    \n",
    "    hidden_layer_model = Model(inputs=model.input, outputs=model.get_layer(layer_name).output)\n",
    "    \n",
    "    for test_image in test_images:\n",
    "    \n",
    "        img = cv2.imread(test_image_path + test_image)\n",
    "        img = cv2.resize(img, (224, 224))\n",
    "        target = np.reshape(img, (1, img.shape[0], img.shape[1], img.shape[2])).astype('float') / 255.0\n",
    "        array = hidden_layer_model.predict(target)\n",
    "        print('file_name :', test_image)\n",
    "        print('array :', array)\n",
    "        print('std :', np.std(array), 'var :', np.var(array))\n",
    "        print('--------------------------------------------------------------------------------------')\n",
    "        "
   ]
  },
  {
   "cell_type": "code",
   "execution_count": 24,
   "metadata": {},
   "outputs": [
    {
     "ename": "ValueError",
     "evalue": "No such layer: dense_6",
     "output_type": "error",
     "traceback": [
      "\u001b[0;31m---------------------------------------------------------------------------\u001b[0m",
      "\u001b[0;31mValueError\u001b[0m                                Traceback (most recent call last)",
      "\u001b[0;32m<ipython-input-24-57296a6feadd>\u001b[0m in \u001b[0;36m<module>\u001b[0;34m()\u001b[0m\n\u001b[0;32m----> 1\u001b[0;31m \u001b[0moutput_logit\u001b[0m\u001b[0;34m(\u001b[0m\u001b[0;34m)\u001b[0m\u001b[0;34m\u001b[0m\u001b[0;34m\u001b[0m\u001b[0m\n\u001b[0m\u001b[1;32m      2\u001b[0m \u001b[0;31m# class_0='cocacola', class_1='fanta_litchi', class_2='lemon', class_3='namacha', class_4='soda_float'\u001b[0m\u001b[0;34m\u001b[0m\u001b[0;34m\u001b[0m\u001b[0;34m\u001b[0m\u001b[0m\n",
      "\u001b[0;32m<ipython-input-23-256af63df25f>\u001b[0m in \u001b[0;36moutput_logit\u001b[0;34m(layer_name, test_image_path)\u001b[0m\n\u001b[1;32m     18\u001b[0m     \u001b[0mtest_images\u001b[0m\u001b[0;34m.\u001b[0m\u001b[0mremove\u001b[0m\u001b[0;34m(\u001b[0m\u001b[0;34m'.DS_Store'\u001b[0m\u001b[0;34m)\u001b[0m\u001b[0;34m\u001b[0m\u001b[0;34m\u001b[0m\u001b[0m\n\u001b[1;32m     19\u001b[0m \u001b[0;34m\u001b[0m\u001b[0m\n\u001b[0;32m---> 20\u001b[0;31m     \u001b[0mhidden_layer_model\u001b[0m \u001b[0;34m=\u001b[0m \u001b[0mModel\u001b[0m\u001b[0;34m(\u001b[0m\u001b[0minputs\u001b[0m\u001b[0;34m=\u001b[0m\u001b[0mmodel\u001b[0m\u001b[0;34m.\u001b[0m\u001b[0minput\u001b[0m\u001b[0;34m,\u001b[0m \u001b[0moutputs\u001b[0m\u001b[0;34m=\u001b[0m\u001b[0mmodel\u001b[0m\u001b[0;34m.\u001b[0m\u001b[0mget_layer\u001b[0m\u001b[0;34m(\u001b[0m\u001b[0mlayer_name\u001b[0m\u001b[0;34m)\u001b[0m\u001b[0;34m.\u001b[0m\u001b[0moutput\u001b[0m\u001b[0;34m)\u001b[0m\u001b[0;34m\u001b[0m\u001b[0;34m\u001b[0m\u001b[0m\n\u001b[0m\u001b[1;32m     21\u001b[0m \u001b[0;34m\u001b[0m\u001b[0m\n\u001b[1;32m     22\u001b[0m     \u001b[0;32mfor\u001b[0m \u001b[0mtest_image\u001b[0m \u001b[0;32min\u001b[0m \u001b[0mtest_images\u001b[0m\u001b[0;34m:\u001b[0m\u001b[0;34m\u001b[0m\u001b[0;34m\u001b[0m\u001b[0m\n",
      "\u001b[0;32m~/anaconda3/lib/python3.6/site-packages/keras/engine/network.py\u001b[0m in \u001b[0;36mget_layer\u001b[0;34m(self, name, index)\u001b[0m\n\u001b[1;32m    356\u001b[0m                 \u001b[0;32mreturn\u001b[0m \u001b[0mlayer\u001b[0m\u001b[0;34m\u001b[0m\u001b[0;34m\u001b[0m\u001b[0m\n\u001b[1;32m    357\u001b[0m \u001b[0;34m\u001b[0m\u001b[0m\n\u001b[0;32m--> 358\u001b[0;31m         \u001b[0;32mraise\u001b[0m \u001b[0mValueError\u001b[0m\u001b[0;34m(\u001b[0m\u001b[0;34m'No such layer: '\u001b[0m \u001b[0;34m+\u001b[0m \u001b[0mname\u001b[0m\u001b[0;34m)\u001b[0m\u001b[0;34m\u001b[0m\u001b[0;34m\u001b[0m\u001b[0m\n\u001b[0m\u001b[1;32m    359\u001b[0m \u001b[0;34m\u001b[0m\u001b[0m\n\u001b[1;32m    360\u001b[0m     \u001b[0;34m@\u001b[0m\u001b[0mproperty\u001b[0m\u001b[0;34m\u001b[0m\u001b[0;34m\u001b[0m\u001b[0m\n",
      "\u001b[0;31mValueError\u001b[0m: No such layer: dense_6"
     ]
    }
   ],
   "source": [
    "output_logit()\n",
    "# class_0='cocacola', class_1='fanta_litchi', class_2='lemon', class_3='namacha', class_4='soda_float'"
   ]
  },
  {
   "cell_type": "markdown",
   "metadata": {},
   "source": [
    "#### __VGG16__"
   ]
  },
  {
   "cell_type": "code",
   "execution_count": null,
   "metadata": {},
   "outputs": [],
   "source": [
    "from keras.applications.vgg16 import VGG16, decode_predictions\n",
    "\n",
    "model_vgg16 = VGG16(include_top=True, weights='imagenet')\n",
    "#model_vgg16.summary()\n",
    "\n",
    "import cv2\n",
    "from keras.models import load_model\n",
    "\n",
    "def predict_class_vgg16(image):\n",
    "    sample = load_img(image, target_size=(224,224))\n",
    "    print(sample)\n",
    "    sample_arr = img_to_array(sample)\n",
    "    sample_arr = np.expand_dims(sample_arr, axis=0)\n",
    "    result = model_vgg16.predict(sample_arr)\n",
    "    print(decode_predictions(result, top=5))"
   ]
  },
  {
   "cell_type": "code",
   "execution_count": null,
   "metadata": {},
   "outputs": [],
   "source": [
    "def predict_class(path_name):\n",
    "\n",
    "    test_images = [f for f in listdir(test_image_path) if isfile(join(test_image_path, f))]\n",
    "    test_images.remove('.DS_Store')\n",
    "    \n",
    "    for test_image in test_images:\n",
    "        print(test_image)\n",
    "        predict_class_vgg16(test_image_path + test_image)\n",
    "        print('--------------------------------------------------------------------------------------')"
   ]
  },
  {
   "cell_type": "code",
   "execution_count": null,
   "metadata": {},
   "outputs": [],
   "source": [
    "predict_class(test_image_path)"
   ]
  },
  {
   "cell_type": "code",
   "execution_count": null,
   "metadata": {},
   "outputs": [],
   "source": [
    "from keras.applications.vgg16 import VGG16, decode_predictions\n",
    "model_vgg16 = VGG16(include_top=True, weights='imagenet')"
   ]
  },
  {
   "cell_type": "code",
   "execution_count": null,
   "metadata": {},
   "outputs": [],
   "source": [
    "model_vgg16.summary()"
   ]
  },
  {
   "cell_type": "code",
   "execution_count": null,
   "metadata": {},
   "outputs": [],
   "source": [
    "conv_base.summary()"
   ]
  },
  {
   "cell_type": "code",
   "execution_count": null,
   "metadata": {},
   "outputs": [],
   "source": []
  }
 ],
 "metadata": {
  "kernelspec": {
   "display_name": "Python 3",
   "language": "python",
   "name": "python3"
  },
  "language_info": {
   "codemirror_mode": {
    "name": "ipython",
    "version": 3
   },
   "file_extension": ".py",
   "mimetype": "text/x-python",
   "name": "python",
   "nbconvert_exporter": "python",
   "pygments_lexer": "ipython3",
   "version": "3.6.8"
  }
 },
 "nbformat": 4,
 "nbformat_minor": 2
}
