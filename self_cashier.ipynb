{
 "cells": [
  {
   "cell_type": "markdown",
   "metadata": {},
   "source": [
    "# __セルフレジ__"
   ]
  },
  {
   "cell_type": "markdown",
   "metadata": {},
   "source": [
    "#### __試すこと__\n",
    "- __2019/07/07の現状__\n",
    "    - Predict速度の向上が必要\n",
    "        - Mobilenetの1層目から学習\n",
    "            - →　Predictが相当遅くなる\n",
    "        - Dense層1層のみを加え、学習する\n",
    "            - →　Predictの速度が向上し,5/6の正解\n",
    "        - Dense層を二層加え、Mobilenetの最後の層のみ学習\n",
    "            - →　14, 15, 16層以降のみ学習させたが、実のデータでの検証失敗\n",
    "            - → Mobile net層を一切学習せず、自作の層を三層追加したものの検証失敗\n",
    "        - Mobilenetの途中層から学習をしてみる\n",
    "            - 10層目からの学習 : ダメ\n",
    "            - 7 :　ダメ\n",
    "        - MobileNetは学習せず、Dense層のみ学習\n",
    "            - 128, 64, 32, 16, 8, 1, 全てDropout0.2\n",
    "                - だめ\n",
    "            "
   ]
  },
  {
   "cell_type": "code",
   "execution_count": 1,
   "metadata": {},
   "outputs": [],
   "source": [
    "my_path = 'image_folder/images/'"
   ]
  },
  {
   "cell_type": "code",
   "execution_count": 2,
   "metadata": {},
   "outputs": [
    {
     "name": "stderr",
     "output_type": "stream",
     "text": [
      "Using TensorFlow backend.\n"
     ]
    }
   ],
   "source": [
    "from os import listdir\n",
    "from os.path import isfile, join\n",
    "from keras.preprocessing.image import ImageDataGenerator, img_to_array, load_img\n",
    "from tqdm import tqdm\n",
    "\n",
    "\n",
    "def augmentation(dir_path, initial_letter_of_file='w', augment_num=2):\n",
    "    \n",
    "    \n",
    "    \"\"\"\n",
    "    note : 指定ディレクトリ内の,指定頭文字で始まるファイルを指定枚数オーグメントする\n",
    "    ----------\n",
    "    dir_path : フォルダパス\n",
    "    initial_letter : augmentしたいファイル名の頭文字\n",
    "    aument_num : augmentしたい枚数\n",
    "    ----------\n",
    "    \"\"\"\n",
    "    \n",
    "    \n",
    "    files_name = [f for f in listdir(my_path) if isfile(join(my_path, f))]\n",
    "    files_name.remove('.DS_Store')\n",
    "    \n",
    "    \n",
    "    datagen = ImageDataGenerator(rotation_range=40,\n",
    "                             #width_shift_range=0.2,\n",
    "                             #height_shift_range=0.2,\n",
    "                             #shear_range=0.2,\n",
    "                             #zoom_range=0.2,\n",
    "                             horizontal_flip=True,\n",
    "                             fill_mode='nearest'\n",
    "    )\n",
    "    \n",
    "    \n",
    "    for i, file in tqdm(enumerate(files_name)):\n",
    "        img = load_img(dir_path + file)\n",
    "        x = img_to_array(img)\n",
    "        x = x.reshape((1,) + x.shape) \n",
    "\n",
    "        if file[0] == initial_letter_of_file:\n",
    "            i = 0\n",
    "            for batch in datagen.flow(x, save_to_dir=dir_path, save_prefix=initial_letter_of_file, save_format=\"jpg\"):\n",
    "                i += 1\n",
    "                if i > augment_num:\n",
    "                    break\n",
    "\n",
    "        else:\n",
    "            pass"
   ]
  },
  {
   "cell_type": "code",
   "execution_count": 3,
   "metadata": {},
   "outputs": [
    {
     "name": "stderr",
     "output_type": "stream",
     "text": [
      "209it [00:34,  4.15it/s]\n",
      "518it [00:39, 13.08it/s]\n"
     ]
    }
   ],
   "source": [
    "augmentation(my_path, 'd')\n",
    "augmentation(my_path, 'c')"
   ]
  },
  {
   "cell_type": "code",
   "execution_count": 4,
   "metadata": {},
   "outputs": [],
   "source": [
    "updated_files_name = [f for f in listdir(my_path) if isfile(join(my_path, f))]\n",
    "\n",
    "import random\n",
    "random.seed(0)\n",
    "random.shuffle(updated_files_name)"
   ]
  },
  {
   "cell_type": "code",
   "execution_count": 5,
   "metadata": {},
   "outputs": [
    {
     "data": {
      "text/plain": [
       "'c'"
      ]
     },
     "execution_count": 5,
     "metadata": {},
     "output_type": "execute_result"
    }
   ],
   "source": [
    "updated_files_name[0][0]"
   ]
  },
  {
   "cell_type": "markdown",
   "metadata": {},
   "source": [
    "#### __前処理__\n",
    "- ラベルデータの保存\n",
    "- resize\n",
    "- test_data, val_dataへの分割\n",
    "- Dog - 1, Cat - 0\n",
    "- ディレクトリの作成\n",
    "    - catsvsdogs / images / train / dogs\n",
    "    - catsvsdogs / images / train / cats\n",
    "    - catsvsdogs / images / val / dogs\n",
    "    - catsvsdogs / images / val / cats"
   ]
  },
  {
   "cell_type": "markdown",
   "metadata": {},
   "source": [
    "#### __保存用ディレクトリの作成__"
   ]
  },
  {
   "cell_type": "code",
   "execution_count": 6,
   "metadata": {},
   "outputs": [],
   "source": [
    "import os\n",
    "import shutil\n",
    "\n",
    "class0_dir_train = 'image_folder/train/class0/'\n",
    "class0_dir_val = 'image_folder/test/class0/'\n",
    "class1_dir_train = 'image_folder/train/class1/'\n",
    "class1_dir_val = 'image_folder/test/class1/'\n",
    "\n",
    "def make_dir(directory):\n",
    "    if os.path.exists(directory):\n",
    "        shutil.rmtree(directory)\n",
    "    os.makedirs(directory)\n",
    "    \n",
    "make_dir(class0_dir_train)\n",
    "make_dir(class0_dir_val)\n",
    "make_dir(class1_dir_train)\n",
    "make_dir(class1_dir_val)"
   ]
  },
  {
   "cell_type": "markdown",
   "metadata": {},
   "source": [
    "#### __データのふるい分け、分割__"
   ]
  },
  {
   "cell_type": "code",
   "execution_count": 7,
   "metadata": {},
   "outputs": [],
   "source": [
    "import cv2\n",
    "import numpy as np\n",
    "import sys\n",
    "import shutil\n",
    "from tqdm import tqdm\n",
    "\n",
    "\n",
    "def train_test_split(files_name, class_0='d', class_1='c', train_size=0.8):\n",
    "    \n",
    "    \"\"\"\n",
    "    note : 画像フォルダから、指定クラスを、指定割合でtrain_sprit\n",
    "    ----------\n",
    "    class_0 : クラス名（今回はwilkinson）\n",
    "    class_1 : クラス名（今回はcoffee）\n",
    "    train_size : 分割したい割合\n",
    "    ----------\n",
    "    \"\"\"\n",
    "    \n",
    "    class_0_count = 0\n",
    "    class_1_count = 0\n",
    "    \n",
    "    each_class_size = len(files_name) // 2\n",
    "    \n",
    "    train_size = each_class_size * train_size\n",
    "    test_size = each_class_size - train_size\n",
    "    \n",
    "    training_images = []\n",
    "    training_labels = []\n",
    "    test_images = []\n",
    "    test_labels = []\n",
    "    training_file_name = []\n",
    "    test_file_name = []\n",
    "    \n",
    "    size=224\n",
    "    \n",
    "    for i, file in tqdm(enumerate(files_name)):\n",
    "        \n",
    "        if files_name[i][0] == class_0:\n",
    "            class_0_count += 1\n",
    "            image = cv2.imread(my_path + file)\n",
    "            image = cv2.resize(image, (size, size), interpolation = cv2.INTER_AREA)\n",
    "            if class_0_count <= train_size:\n",
    "                training_images.append(image)\n",
    "                training_labels.append(0)\n",
    "                training_file_name.append(file)\n",
    "                cv2.imwrite(class0_dir_train + class_0 + str(class_0_count) + '.jpg', image)\n",
    "            if class_0_count > train_size and class_0_count <= train_size + test_size:\n",
    "                test_images.append(image)\n",
    "                test_labels.append(0)\n",
    "                test_file_name.append(file)\n",
    "                cv2.imwrite(class0_dir_val + class_0 + str(class_0_count) + '_' + '.jpg', image)\n",
    "\n",
    "        if files_name[i][0] == class_1:\n",
    "            class_1_count += 1\n",
    "            image = cv2.imread(my_path + file)\n",
    "            image = cv2.resize(image, (size, size), interpolation = cv2.INTER_AREA)\n",
    "            if class_1_count <= train_size:\n",
    "                training_images.append(image)\n",
    "                training_labels.append(1)\n",
    "                training_file_name.append(file)\n",
    "                cv2.imwrite(class1_dir_train + class_1 + str(class_1_count) + '.jpg', image)\n",
    "            if class_1_count > train_size and class_1_count <= train_size + test_size:\n",
    "                test_images.append(image)\n",
    "                test_labels.append(1)\n",
    "                test_file_name.append(file)\n",
    "                cv2.imwrite(class1_dir_val + class_1 + str(class_1_count) + '_' + '.jpg', image)\n",
    "                \n",
    "    return training_images, training_labels, test_images, test_labels, training_file_name, test_file_name"
   ]
  },
  {
   "cell_type": "code",
   "execution_count": 8,
   "metadata": {},
   "outputs": [
    {
     "name": "stderr",
     "output_type": "stream",
     "text": [
      "829it [00:07, 107.72it/s]\n"
     ]
    }
   ],
   "source": [
    "training_images, training_labels, test_images, test_labels, training_file_name, test_file_name = train_test_split(updated_files_name)"
   ]
  },
  {
   "cell_type": "code",
   "execution_count": 9,
   "metadata": {},
   "outputs": [
    {
     "data": {
      "text/plain": [
       "['d_0_501.jpg',\n",
       " 'c_0_2846.jpg',\n",
       " 'c_0_2115.jpg',\n",
       " 'c_0_7107.jpg',\n",
       " 'd_0_889.jpg',\n",
       " 'c_0_7375.jpg',\n",
       " 'd_0_2028.jpg',\n",
       " 'c_0_7830.jpg',\n",
       " 'd_0_830.jpg',\n",
       " 'd_0_6100.jpg',\n",
       " 'd_0_8188.jpg',\n",
       " 'c_0_8012.jpg',\n",
       " 'c_0_629.jpg',\n",
       " 'd_0_2100.jpg',\n",
       " 'd_0_5914.jpg']"
      ]
     },
     "execution_count": 9,
     "metadata": {},
     "output_type": "execute_result"
    }
   ],
   "source": [
    "training_file_name[20:35]"
   ]
  },
  {
   "cell_type": "code",
   "execution_count": 10,
   "metadata": {},
   "outputs": [
    {
     "data": {
      "text/plain": [
       "[0, 1, 1, 1, 0, 1, 0, 1, 0, 0, 0, 1, 1, 0, 0]"
      ]
     },
     "execution_count": 10,
     "metadata": {},
     "output_type": "execute_result"
    }
   ],
   "source": [
    "training_labels[20:35]"
   ]
  },
  {
   "cell_type": "markdown",
   "metadata": {},
   "source": [
    "#### __Kerasが対応するファイル型に変換__"
   ]
  },
  {
   "cell_type": "code",
   "execution_count": 11,
   "metadata": {},
   "outputs": [],
   "source": [
    "np.savez('wil_vs_cof_training_data.npz', np.array(training_images))\n",
    "np.savez('wil_vs_cof_training_labels.npz', np.array(training_labels))\n",
    "np.savez('wil_vs_cof_test_data.npz', np.array(test_images))\n",
    "np.savez('wil_vs_cof_test_labels.npz', np.array(test_labels))"
   ]
  },
  {
   "cell_type": "code",
   "execution_count": 12,
   "metadata": {},
   "outputs": [],
   "source": [
    "import numpy as np\n",
    "\n",
    "def load_data_training_and_test(datasetname):\n",
    "    npzfile = np.load(datasetname + \"_training_data.npz\")\n",
    "    train = npzfile[\"arr_0\"]\n",
    "    \n",
    "    npzfile = np.load(datasetname + \"_training_labels.npz\")\n",
    "    train_labels = npzfile[\"arr_0\"]\n",
    "    \n",
    "    npzfile = np.load(datasetname + \"_test_data.npz\")\n",
    "    test = npzfile[\"arr_0\"]\n",
    "    \n",
    "    npzfile = np.load(datasetname + \"_test_labels.npz\")\n",
    "    test_labels = npzfile[\"arr_0\"]\n",
    "    \n",
    "    return (train, train_labels), (test, test_labels)"
   ]
  },
  {
   "cell_type": "markdown",
   "metadata": {},
   "source": [
    "for i in range(1, 11):\n",
    "    random = np.random.randint(0, len(training_images))\n",
    "    cv2.imshow(\"image_\" + str(i), training_images[random])\n",
    "    if training_labels[random] == 0:\n",
    "        print(str(i) + \"- Cat\")\n",
    "    else:\n",
    "        print(str(i) + \"- Dog\")\n",
    "        \n",
    "cv2.destroyAllWindows()"
   ]
  },
  {
   "cell_type": "markdown",
   "metadata": {},
   "source": [
    "#### __データの前処理__"
   ]
  },
  {
   "cell_type": "code",
   "execution_count": 13,
   "metadata": {},
   "outputs": [],
   "source": [
    "(X_train, y_train), (X_test, y_test) = load_data_training_and_test(\"wil_vs_cof\")\n",
    "\n",
    "y_train = y_train.reshape(y_train.shape[0], 1)\n",
    "y_test = y_test.reshape(y_test.shape[0], 1)\n",
    "\n",
    "X_train = X_train.astype(\"float32\")\n",
    "X_test = X_test.astype(\"float32\")\n",
    "\n",
    "X_train /= 255\n",
    "X_test /= 255"
   ]
  },
  {
   "cell_type": "code",
   "execution_count": 14,
   "metadata": {},
   "outputs": [
    {
     "data": {
      "text/plain": [
       "(662, 224, 224, 3)"
      ]
     },
     "execution_count": 14,
     "metadata": {},
     "output_type": "execute_result"
    }
   ],
   "source": [
    "X_train.shape"
   ]
  },
  {
   "cell_type": "code",
   "execution_count": 15,
   "metadata": {},
   "outputs": [
    {
     "data": {
      "text/plain": [
       "165"
      ]
     },
     "execution_count": 15,
     "metadata": {},
     "output_type": "execute_result"
    }
   ],
   "source": [
    "len(y_test)"
   ]
  },
  {
   "cell_type": "markdown",
   "metadata": {},
   "source": [
    "#### __学習__\n",
    "- 自作の層で学習を行なったが、精度が低い"
   ]
  },
  {
   "cell_type": "code",
   "execution_count": 32,
   "metadata": {},
   "outputs": [
    {
     "name": "stdout",
     "output_type": "stream",
     "text": [
      "--------------------------------------------------------------------------------------\n",
      "This code was runned on date / time below 2019/07/08 11:20:35\n"
     ]
    }
   ],
   "source": [
    "from keras.preprocessing.image import ImageDataGenerator\n",
    "from keras.models import Sequential\n",
    "from keras.layers import Dense, Dropout, Activation, Flatten\n",
    "from keras.layers import Conv2D, MaxPooling2D\n",
    "from keras.callbacks import EarlyStopping\n",
    "\n",
    "import os\n",
    "\n",
    "batch_size = 16\n",
    "epochs = 8\n",
    "\n",
    "img_rows = X_train[0].shape[0]\n",
    "img_cols = X_train[1].shape[0]\n",
    "input_size = (224, 224, 3)\n",
    "\n",
    "\"\"\"\n",
    "model = Sequential()\n",
    "model.add(Conv2D(32, 3, 3, border_mode='same', input_shape=input_size))\n",
    "model.add(Activation(\"relu\"))\n",
    "model.add(Conv2D(32, 3, 3))\n",
    "model.add(Activation(\"relu\"))\n",
    "model.add(MaxPooling2D(pool_size=(2, 2), border_mode=(\"same\")))\n",
    "model.add(Dropout(0.25))\n",
    "\n",
    "model.add(Flatten())\n",
    "\n",
    "model.add(Dense(200))\n",
    "model.add(Activation(\"relu\"))\n",
    "model.add(Dropout(0.2))\n",
    "\n",
    "model.add(Dense(200))\n",
    "model.add(Activation(\"relu\"))\n",
    "model.add(Dropout(0.2))\n",
    "\n",
    "model.add(Dense(3))\n",
    "model.add(Activation('sigmoid'))\n",
    "\n",
    "print('---------------------------')\n",
    "\n",
    "\"\"\"\"\"\"\n",
    "\n",
    "model = Sequential()\n",
    "\n",
    "model.add(Conv2D(32, (3, 3), input_shape = input_size))\n",
    "model.add(Activation('relu'))\n",
    "model.add(MaxPooling2D(pool_size=(2,2)))\n",
    "\n",
    "model.add(Conv2D(32, (3, 3)))\n",
    "model.add(Activation('relu'))\n",
    "model.add(MaxPooling2D(pool_size=(2,2)))\n",
    "\n",
    "model.add(Conv2D(32, (3, 3)))\n",
    "model.add(Activation('relu'))\n",
    "model.add(MaxPooling2D(pool_size=(2,2)))\n",
    "\n",
    "model.add(Conv2D(64, (3, 3)))\n",
    "model.add(Activation('relu'))\n",
    "model.add(MaxPooling2D(pool_size=(2,2)))\n",
    "\n",
    "model.add(Conv2D(64, (3, 3)))\n",
    "model.add(Activation('relu'))\n",
    "model.add(MaxPooling2D(pool_size=(2,2)))\n",
    "\n",
    "model.add(Flatten())\n",
    "\n",
    "model.add(Dense(32))\n",
    "model.add(Activation('relu'))\n",
    "model.add(Dropout(0.2))\n",
    "\n",
    "model.add(Dense(32))\n",
    "model.add(Activation('relu'))\n",
    "model.add(Dropout(0.2))\n",
    "\n",
    "model.add(Dense(32))\n",
    "model.add(Activation('relu'))\n",
    "model.add(Dropout(0.2))\n",
    "\n",
    "model.add(Dense(1))\n",
    "model.add(Activation('sigmoid'))\n",
    "\n",
    "\"\"\"\n",
    "\n",
    "\n",
    "from keras.applications.mobilenet_v2 import MobileNetV2\n",
    "\n",
    "conv_base = MobileNetV2(weights='imagenet', include_top=False, input_shape=input_size)\n",
    "\n",
    "model = Sequential()\n",
    "model.add(conv_base)\n",
    "\n",
    "\"\"\"\n",
    "model.add(Flatten())\n",
    "\n",
    "model.add(Dense(32))\n",
    "model.add(Activation('relu'))\n",
    "model.add(Dropout(0.2))\n",
    "\n",
    "\n",
    "model.add(Flatten())\n",
    "\n",
    "\n",
    "model.add(Dense(64))\n",
    "model.add(Activation('relu'))\n",
    "model.add(Dropout(0.2))\n",
    "\n",
    "model.add(Dense(32))\n",
    "model.add(Activation('relu'))\n",
    "model.add(Dropout(0.2))\n",
    "\n",
    "model.add(Dense(16))\n",
    "model.add(Activation('relu'))\n",
    "model.add(Dropout(0.2))\n",
    "\"\"\"\n",
    "\n",
    "model.add(Flatten())\n",
    "\n",
    "model.add(Dense(8))\n",
    "model.add(Activation('relu'))\n",
    "model.add(Dropout(0.2))\n",
    "\n",
    "model.add(Dense(1))\n",
    "model.add(Activation('sigmoid'))\n",
    "\n",
    "\n",
    "set_trainable = False\n",
    "for layer in conv_base.layers:\n",
    "    if layer.name == 'block_16_expand':\n",
    "        # 一切の学習を行わない場合\n",
    "        set_trainable = True\n",
    "    if set_trainable:\n",
    "        layer.trainable = True\n",
    "    else:\n",
    "        layer.trainable = False\n",
    "\n",
    "    \n",
    "\"\"\"\n",
    "for layer in conv_base__.layers:\n",
    "    print(layer.name, ':', layer.trainable)\n",
    "\"\"\"\n",
    "\n",
    "model.compile(loss = 'binary_crossentropy',\n",
    "             optimizer = 'rmsprop',\n",
    "             metrics = ['accuracy'])\n",
    "\n",
    "\n",
    "# どこまで実行しているか不明になるので...\n",
    "from datetime import datetime\n",
    "print('--------------------------------------------------------------------------------------')\n",
    "print('This code was runned on date / time below', datetime.now().strftime(\"%Y/%m/%d %H:%M:%S\"))"
   ]
  },
  {
   "cell_type": "code",
   "execution_count": 33,
   "metadata": {},
   "outputs": [
    {
     "name": "stdout",
     "output_type": "stream",
     "text": [
      "input_6 : False\n",
      "Conv1_pad : False\n",
      "Conv1 : False\n",
      "bn_Conv1 : False\n",
      "Conv1_relu : False\n",
      "expanded_conv_depthwise : False\n",
      "expanded_conv_depthwise_BN : False\n",
      "expanded_conv_depthwise_relu : False\n",
      "expanded_conv_project : False\n",
      "expanded_conv_project_BN : False\n",
      "block_1_expand : False\n",
      "block_1_expand_BN : False\n",
      "block_1_expand_relu : False\n",
      "block_1_pad : False\n",
      "block_1_depthwise : False\n",
      "block_1_depthwise_BN : False\n",
      "block_1_depthwise_relu : False\n",
      "block_1_project : False\n",
      "block_1_project_BN : False\n",
      "block_2_expand : False\n",
      "block_2_expand_BN : False\n",
      "block_2_expand_relu : False\n",
      "block_2_depthwise : False\n",
      "block_2_depthwise_BN : False\n",
      "block_2_depthwise_relu : False\n",
      "block_2_project : False\n",
      "block_2_project_BN : False\n",
      "block_2_add : False\n",
      "block_3_expand : False\n",
      "block_3_expand_BN : False\n",
      "block_3_expand_relu : False\n",
      "block_3_pad : False\n",
      "block_3_depthwise : False\n",
      "block_3_depthwise_BN : False\n",
      "block_3_depthwise_relu : False\n",
      "block_3_project : False\n",
      "block_3_project_BN : False\n",
      "block_4_expand : False\n",
      "block_4_expand_BN : False\n",
      "block_4_expand_relu : False\n",
      "block_4_depthwise : False\n",
      "block_4_depthwise_BN : False\n",
      "block_4_depthwise_relu : False\n",
      "block_4_project : False\n",
      "block_4_project_BN : False\n",
      "block_4_add : False\n",
      "block_5_expand : False\n",
      "block_5_expand_BN : False\n",
      "block_5_expand_relu : False\n",
      "block_5_depthwise : False\n",
      "block_5_depthwise_BN : False\n",
      "block_5_depthwise_relu : False\n",
      "block_5_project : False\n",
      "block_5_project_BN : False\n",
      "block_5_add : False\n",
      "block_6_expand : False\n",
      "block_6_expand_BN : False\n",
      "block_6_expand_relu : False\n",
      "block_6_pad : False\n",
      "block_6_depthwise : False\n",
      "block_6_depthwise_BN : False\n",
      "block_6_depthwise_relu : False\n",
      "block_6_project : False\n",
      "block_6_project_BN : False\n",
      "block_7_expand : False\n",
      "block_7_expand_BN : False\n",
      "block_7_expand_relu : False\n",
      "block_7_depthwise : False\n",
      "block_7_depthwise_BN : False\n",
      "block_7_depthwise_relu : False\n",
      "block_7_project : False\n",
      "block_7_project_BN : False\n",
      "block_7_add : False\n",
      "block_8_expand : False\n",
      "block_8_expand_BN : False\n",
      "block_8_expand_relu : False\n",
      "block_8_depthwise : False\n",
      "block_8_depthwise_BN : False\n",
      "block_8_depthwise_relu : False\n",
      "block_8_project : False\n",
      "block_8_project_BN : False\n",
      "block_8_add : False\n",
      "block_9_expand : False\n",
      "block_9_expand_BN : False\n",
      "block_9_expand_relu : False\n",
      "block_9_depthwise : False\n",
      "block_9_depthwise_BN : False\n",
      "block_9_depthwise_relu : False\n",
      "block_9_project : False\n",
      "block_9_project_BN : False\n",
      "block_9_add : False\n",
      "block_10_expand : False\n",
      "block_10_expand_BN : False\n",
      "block_10_expand_relu : False\n",
      "block_10_depthwise : False\n",
      "block_10_depthwise_BN : False\n",
      "block_10_depthwise_relu : False\n",
      "block_10_project : False\n",
      "block_10_project_BN : False\n",
      "block_11_expand : False\n",
      "block_11_expand_BN : False\n",
      "block_11_expand_relu : False\n",
      "block_11_depthwise : False\n",
      "block_11_depthwise_BN : False\n",
      "block_11_depthwise_relu : False\n",
      "block_11_project : False\n",
      "block_11_project_BN : False\n",
      "block_11_add : False\n",
      "block_12_expand : False\n",
      "block_12_expand_BN : False\n",
      "block_12_expand_relu : False\n",
      "block_12_depthwise : False\n",
      "block_12_depthwise_BN : False\n",
      "block_12_depthwise_relu : False\n",
      "block_12_project : False\n",
      "block_12_project_BN : False\n",
      "block_12_add : False\n",
      "block_13_expand : False\n",
      "block_13_expand_BN : False\n",
      "block_13_expand_relu : False\n",
      "block_13_pad : False\n",
      "block_13_depthwise : False\n",
      "block_13_depthwise_BN : False\n",
      "block_13_depthwise_relu : False\n",
      "block_13_project : False\n",
      "block_13_project_BN : False\n",
      "block_14_expand : False\n",
      "block_14_expand_BN : False\n",
      "block_14_expand_relu : False\n",
      "block_14_depthwise : False\n",
      "block_14_depthwise_BN : False\n",
      "block_14_depthwise_relu : False\n",
      "block_14_project : False\n",
      "block_14_project_BN : False\n",
      "block_14_add : False\n",
      "block_15_expand : False\n",
      "block_15_expand_BN : False\n",
      "block_15_expand_relu : False\n",
      "block_15_depthwise : False\n",
      "block_15_depthwise_BN : False\n",
      "block_15_depthwise_relu : False\n",
      "block_15_project : False\n",
      "block_15_project_BN : False\n",
      "block_15_add : False\n",
      "block_16_expand : True\n",
      "block_16_expand_BN : True\n",
      "block_16_expand_relu : True\n",
      "block_16_depthwise : True\n",
      "block_16_depthwise_BN : True\n",
      "block_16_depthwise_relu : True\n",
      "block_16_project : True\n",
      "block_16_project_BN : True\n",
      "Conv_1 : True\n",
      "Conv_1_bn : True\n",
      "out_relu : True\n",
      "--------------------------------------------------------------------------------------\n",
      "This code was runned on date / time below 2019/07/08 11:20:35\n"
     ]
    }
   ],
   "source": [
    "for layer in conv_base.layers:\n",
    "    print(layer.name, ':', layer.trainable)\n",
    "    \n",
    "# どこまで実行しているか不明になるので...\n",
    "from datetime import datetime\n",
    "print('--------------------------------------------------------------------------------------')\n",
    "print('This code was runned on date / time below', datetime.now().strftime(\"%Y/%m/%d %H:%M:%S\"))"
   ]
  },
  {
   "cell_type": "code",
   "execution_count": 34,
   "metadata": {},
   "outputs": [
    {
     "name": "stdout",
     "output_type": "stream",
     "text": [
      "_________________________________________________________________\n",
      "Layer (type)                 Output Shape              Param #   \n",
      "=================================================================\n",
      "mobilenetv2_1.00_224 (Model) (None, 7, 7, 1280)        2257984   \n",
      "_________________________________________________________________\n",
      "flatten_8 (Flatten)          (None, 62720)             0         \n",
      "_________________________________________________________________\n",
      "dense_5 (Dense)              (None, 8)                 501768    \n",
      "_________________________________________________________________\n",
      "activation_5 (Activation)    (None, 8)                 0         \n",
      "_________________________________________________________________\n",
      "dropout_4 (Dropout)          (None, 8)                 0         \n",
      "_________________________________________________________________\n",
      "dense_6 (Dense)              (None, 1)                 9         \n",
      "_________________________________________________________________\n",
      "activation_6 (Activation)    (None, 1)                 0         \n",
      "=================================================================\n",
      "Total params: 2,759,761\n",
      "Trainable params: 1,387,857\n",
      "Non-trainable params: 1,371,904\n",
      "_________________________________________________________________\n",
      "--------------------------------------------------------------------------------------\n",
      "This code was runned on date / time below 2019/07/08 11:20:35\n"
     ]
    }
   ],
   "source": [
    "model.summary()\n",
    "\n",
    "# どこまで実行しているか不明になるので...\n",
    "from datetime import datetime\n",
    "print('--------------------------------------------------------------------------------------')\n",
    "print('This code was runned on date / time below', datetime.now().strftime(\"%Y/%m/%d %H:%M:%S\"))"
   ]
  },
  {
   "cell_type": "code",
   "execution_count": 35,
   "metadata": {},
   "outputs": [
    {
     "name": "stdout",
     "output_type": "stream",
     "text": [
      "Train on 662 samples, validate on 165 samples\n",
      "Epoch 1/8\n",
      "662/662 [==============================] - 48s 73ms/step - loss: 0.2485 - acc: 0.9109 - val_loss: 3.6167e-04 - val_acc: 1.0000\n",
      "Epoch 2/8\n",
      "662/662 [==============================] - 38s 58ms/step - loss: 0.1400 - acc: 0.9849 - val_loss: 0.0444 - val_acc: 0.9939\n",
      "Epoch 3/8\n",
      "662/662 [==============================] - 37s 56ms/step - loss: 0.1126 - acc: 0.9849 - val_loss: 1.4075e-07 - val_acc: 1.0000\n",
      "Epoch 4/8\n",
      "662/662 [==============================] - 39s 59ms/step - loss: 0.0529 - acc: 0.9955 - val_loss: 0.0687 - val_acc: 0.9939\n",
      "Epoch 5/8\n",
      "662/662 [==============================] - 39s 59ms/step - loss: 0.1219 - acc: 0.9879 - val_loss: 3.1068e-05 - val_acc: 1.0000\n",
      "Epoch 6/8\n",
      "662/662 [==============================] - 38s 58ms/step - loss: 0.0265 - acc: 0.9924 - val_loss: 1.0966e-07 - val_acc: 1.0000\n",
      "Epoch 7/8\n",
      "662/662 [==============================] - 39s 59ms/step - loss: 0.0646 - acc: 0.9970 - val_loss: 1.0966e-07 - val_acc: 1.0000\n",
      "Epoch 8/8\n",
      "662/662 [==============================] - 40s 61ms/step - loss: 0.0914 - acc: 0.9909 - val_loss: 1.0966e-07 - val_acc: 1.0000\n",
      "165/165 [==============================] - 9s 54ms/step\n",
      "Test loss 1.0966288167916597e-07 Test accuracy 1.0\n",
      "--------------------------------------------------------------------------------------\n",
      "This code was runned on date / time below 2019/07/08 11:26:09\n"
     ]
    }
   ],
   "source": [
    "history = model.fit(X_train, y_train,\n",
    "                   batch_size = batch_size,\n",
    "                   epochs = epochs,\n",
    "                   validation_data = (X_test, y_test),\n",
    "                   shuffle = True)\n",
    "\n",
    "# 再構築可能なモデルの構造\n",
    "# モデルの重み\n",
    "# 学習時の設定 (loss，optimizer)\n",
    "# optimizerの状態．これにより，学習を終えた時点から正確に学習を再開できます\n",
    "\n",
    "model.save(\"dog_vs_cat.h5\")\n",
    "scores = model.evaluate(X_test, y_test, verbose=1)\n",
    "\n",
    "print('Test loss', scores[0], 'Test accuracy', scores[1])\n",
    "\n",
    "# どこまで実行しているか不明になるので...\n",
    "from datetime import datetime\n",
    "print('--------------------------------------------------------------------------------------')\n",
    "print('This code was runned on date / time below', datetime.now().strftime(\"%Y/%m/%d %H:%M:%S\"))"
   ]
  },
  {
   "cell_type": "markdown",
   "metadata": {},
   "source": [
    "#### __可視化__"
   ]
  },
  {
   "cell_type": "code",
   "execution_count": 58,
   "metadata": {},
   "outputs": [
    {
     "name": "stdout",
     "output_type": "stream",
     "text": [
      "--------------------------------------------------------------------------------------\n",
      "This code was runned on date / time below 2019/07/08 11:42:03\n"
     ]
    },
    {
     "data": {
      "image/png": "[encoded data removed]",
      "text/plain": [
       "<Figure size 432x288 with 1 Axes>"
      ]
     },
     "metadata": {
      "needs_background": "light"
     },
     "output_type": "display_data"
    }
   ],
   "source": [
    "import matplotlib.pyplot as plt\n",
    "% matplotlib inline\n",
    "plt.plot(history.history['val_loss'])\n",
    "plt.title('val_loss')\n",
    "\n",
    "# どこまで実行しているか不明になるので...\n",
    "from datetime import datetime\n",
    "print('--------------------------------------------------------------------------------------')\n",
    "print('This code was runned on date / time below', datetime.now().strftime(\"%Y/%m/%d %H:%M:%S\"))"
   ]
  },
  {
   "cell_type": "code",
   "execution_count": 59,
   "metadata": {},
   "outputs": [
    {
     "name": "stdout",
     "output_type": "stream",
     "text": [
      "--------------------------------------------------------------------------------------\n",
      "This code was runned on date / time below 2019/07/08 11:42:03\n"
     ]
    },
    {
     "data": {
      "image/png": "[encoded data removed]",
      "text/plain": [
       "<Figure size 432x288 with 1 Axes>"
      ]
     },
     "metadata": {
      "needs_background": "light"
     },
     "output_type": "display_data"
    }
   ],
   "source": [
    "plt.plot(history.history['val_acc'])\n",
    "plt.title('val_acc')\n",
    "\n",
    "# どこまで実行しているか不明になるので...\n",
    "from datetime import datetime\n",
    "print('--------------------------------------------------------------------------------------')\n",
    "print('This code was runned on date / time below', datetime.now().strftime(\"%Y/%m/%d %H:%M:%S\"))"
   ]
  },
  {
   "cell_type": "markdown",
   "metadata": {},
   "source": [
    "#### __学習済みモデルのpredict__"
   ]
  },
  {
   "cell_type": "code",
   "execution_count": 49,
   "metadata": {},
   "outputs": [],
   "source": [
    "import cv2\n",
    "from keras.models import load_model\n",
    "\n",
    "def predict_class(image, class_0='dog', class_1='cat'):\n",
    "    sample = load_img(image, target_size=(224,224))\n",
    "    sample_arr = img_to_array(sample)\n",
    "    sample_arr = np.expand_dims(sample_arr, axis=0)\n",
    "    sample_arr = sample_arr /255\n",
    "    #model = load_model('wil_vs_cof.h5')\n",
    "    result = model.predict(sample_arr)\n",
    "    print('result prob', result)\n",
    "    if result < 0.5:\n",
    "        return class_0\n",
    "    else:\n",
    "        return class_1"
   ]
  },
  {
   "cell_type": "code",
   "execution_count": 50,
   "metadata": {},
   "outputs": [],
   "source": [
    "test_image_path = 'test_image/'"
   ]
  },
  {
   "cell_type": "code",
   "execution_count": 100,
   "metadata": {},
   "outputs": [],
   "source": [
    "from os import listdir\n",
    "from os.path import isfile, join\n",
    "import time\n",
    "\n",
    "\n",
    "def accuracy_check(test_image_path):\n",
    "    \"\"\"\n",
    "    note : test_imageディレクトリ内のテストデータで、モデルの精度判定する関数\n",
    "    ---------------\n",
    "    attribute\n",
    "    test_image_path : test_imageディレクトリのパス\n",
    "    \"\"\"\n",
    "    \n",
    "    # 時間計測（start）\n",
    "    start = time.time()\n",
    "    \n",
    "    # 画像ファイルの取り出し\n",
    "    test_images = [f for f in listdir(test_image_path) if isfile(join(test_image_path, f))]\n",
    "    test_images.remove('.DS_Store')\n",
    "\n",
    "    collect = 0\n",
    "    for test_image in test_images:\n",
    "        class_name = predict_class(test_image_path + test_image)\n",
    "        print('file name :', test_image, '/ class name :', class_name)\n",
    "        if test_image[0] == class_name[0]:\n",
    "            print('○')\n",
    "            collect += 1\n",
    "        else:\n",
    "            print('×')\n",
    "        print('--------------------------------------------------------------------------------------')\n",
    "\n",
    "\n",
    "    print('正解数は{sample}サンプル中{collect}で、testデータの正解率は{rate}です。'.format(sample=len(test_images),\n",
    "                                                                    collect=collect,\n",
    "                                                                    rate=collect/len(test_images)))\n",
    "    print('--------------------------------------------------------------------------------------')\n",
    "    \n",
    "    # 時間計測（end）\n",
    "    elapsed_time = time.time() - start\n",
    "    #print('合計秒数:：',elapsed_time)\n",
    "    print('画像ごとの処理時間(秒) :', str((elapsed_time)/len(test_images)) )"
   ]
  },
  {
   "cell_type": "code",
   "execution_count": 101,
   "metadata": {},
   "outputs": [
    {
     "name": "stdout",
     "output_type": "stream",
     "text": [
      "result prob [[0.]]\n",
      "file name : dog_train_2.jpg / class name : dog\n",
      "○\n",
      "--------------------------------------------------------------------------------------\n",
      "result prob [[0.]]\n",
      "file name : dog_train_1.jpg / class name : dog\n",
      "○\n",
      "--------------------------------------------------------------------------------------\n",
      "result prob [[1.]]\n",
      "file name : cat_test_1.jpeg / class name : cat\n",
      "○\n",
      "--------------------------------------------------------------------------------------\n",
      "result prob [[1.]]\n",
      "file name : cat_train_12.jpeg / class name : cat\n",
      "○\n",
      "--------------------------------------------------------------------------------------\n",
      "result prob [[8.265217e-24]]\n",
      "file name : dog_test_3.jpeg / class name : dog\n",
      "○\n",
      "--------------------------------------------------------------------------------------\n",
      "result prob [[1.]]\n",
      "file name : cat_train_8.jpg / class name : cat\n",
      "○\n",
      "--------------------------------------------------------------------------------------\n",
      "result prob [[3.8367263e-23]]\n",
      "file name : dog_test_2.jpeg / class name : dog\n",
      "○\n",
      "--------------------------------------------------------------------------------------\n",
      "result prob [[1.]]\n",
      "file name : cat_train_13.jpeg / class name : cat\n",
      "○\n",
      "--------------------------------------------------------------------------------------\n",
      "result prob [[0.9999769]]\n",
      "file name : dog_test_1.jpeg / class name : cat\n",
      "×\n",
      "--------------------------------------------------------------------------------------\n",
      "result prob [[1.]]\n",
      "file name : cat_test_2.jpeg / class name : cat\n",
      "○\n",
      "--------------------------------------------------------------------------------------\n",
      "result prob [[0.11975393]]\n",
      "file name : cat_test_3.jpeg / class name : dog\n",
      "×\n",
      "--------------------------------------------------------------------------------------\n",
      "正解数は11サンプル中9で、testデータの正解率は0.8181818181818182です。\n",
      "--------------------------------------------------------------------------------------\n",
      "画像ごとの処理時間(秒) : 0.06778925115411932\n"
     ]
    }
   ],
   "source": [
    "accuracy_check(test_image_path)"
   ]
  },
  {
   "cell_type": "markdown",
   "metadata": {},
   "source": [
    "#### __VGG16__"
   ]
  },
  {
   "cell_type": "code",
   "execution_count": 95,
   "metadata": {},
   "outputs": [],
   "source": [
    "from keras.applications.vgg16 import VGG16, decode_predictions\n",
    "\n",
    "model_vgg16 = VGG16(include_top=True, weights='imagenet')\n",
    "#model_vgg16.summary()\n",
    "\n",
    "import cv2\n",
    "from keras.models import load_model\n",
    "\n",
    "def predict_class_vgg16(image):\n",
    "    sample = load_img(image, target_size=(224,224))\n",
    "    print(sample)\n",
    "    sample_arr = img_to_array(sample)\n",
    "    sample_arr = np.expand_dims(sample_arr, axis=0)\n",
    "    result = model_vgg16.predict(sample_arr)\n",
    "    print(decode_predictions(result, top=5))"
   ]
  },
  {
   "cell_type": "code",
   "execution_count": 96,
   "metadata": {},
   "outputs": [
    {
     "name": "stdout",
     "output_type": "stream",
     "text": [
      "<PIL.Image.Image image mode=RGB size=224x224 at 0xB7754DC88>\n",
      "[[('n02124075', 'Egyptian_cat', 0.9227267), ('n02123045', 'tabby', 0.041807458), ('n02123159', 'tiger_cat', 0.031026086), ('n02127052', 'lynx', 0.0035141995), ('n04040759', 'radiator', 0.00030299937)]]\n"
     ]
    }
   ],
   "source": [
    "result = predict_class_vgg16(test_image_path + 'cat_test_1.jpeg')"
   ]
  },
  {
   "cell_type": "code",
   "execution_count": 97,
   "metadata": {},
   "outputs": [
    {
     "name": "stdout",
     "output_type": "stream",
     "text": [
      "<PIL.Image.Image image mode=RGB size=224x224 at 0xB81A759B0>\n",
      "[[('n02109961', 'Eskimo_dog', 0.6854493), ('n02110185', 'Siberian_husky', 0.26612717), ('n02091467', 'Norwegian_elkhound', 0.03948948), ('n02110063', 'malamute', 0.0031720148), ('n02114548', 'white_wolf', 0.002703209)]]\n"
     ]
    }
   ],
   "source": [
    "result = predict_class_vgg16(test_image_path + 'dog_test_1.jpeg')"
   ]
  },
  {
   "cell_type": "code",
   "execution_count": null,
   "metadata": {},
   "outputs": [],
   "source": []
  }
 ],
 "metadata": {
  "kernelspec": {
   "display_name": "Python 3",
   "language": "python",
   "name": "python3"
  },
  "language_info": {
   "codemirror_mode": {
    "name": "ipython",
    "version": 3
   },
   "file_extension": ".py",
   "mimetype": "text/x-python",
   "name": "python",
   "nbconvert_exporter": "python",
   "pygments_lexer": "ipython3",
   "version": "3.6.8"
  }
 },
 "nbformat": 4,
 "nbformat_minor": 2
}
